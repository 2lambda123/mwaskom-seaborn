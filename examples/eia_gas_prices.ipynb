{
 "nbformat": 3, 
 "nbformat_minor": 0, 
 "worksheets": [
  {
   "cells": [
    {
     "cell_type": "code", 
     "language": "python", 
     "outputs": [], 
     "collapsed": false, 
     "input": [
      "import numpy as np", 
      "import seaborn as sns", 
      "import matplotlib.pyplot as plt", 
      "import pandas as pd", 
      "import urllib2", 
      "import StringIO"
     ], 
     "metadata": {}
    }, 
    {
     "source": [
      "The data are taken from the US Energy Information Agency's web site:"
     ], 
     "cell_type": "markdown", 
     "metadata": {}
    }, 
    {
     "cell_type": "code", 
     "language": "python", 
     "outputs": [], 
     "collapsed": false, 
     "input": [
      "data_url = \"http://www.eia.gov/dnav/pet/xls/PET_PRI_ALLMG_A_EPM0_PTC_DPGAL_M.xls\""
     ], 
     "metadata": {}
    }, 
    {
     "source": [
      "The data are in an Excel sheet."
     ], 
     "cell_type": "markdown", 
     "metadata": {}
    }, 
    {
     "cell_type": "code", 
     "language": "python", 
     "outputs": [], 
     "collapsed": false, 
     "input": [
      "xld = urllib2.urlopen(data_url).read()", 
      "xlds = StringIO.StringIO(xld)", 
      "data = pd.read_excel(xlds, \"Data 1\", skiprows=2)"
     ], 
     "metadata": {}
    }, 
    {
     "source": [
      "Clean up the state names."
     ], 
     "cell_type": "markdown", 
     "metadata": {}
    }, 
    {
     "cell_type": "code", 
     "language": "python", 
     "outputs": [], 
     "collapsed": false, 
     "input": [
      "def tr(x):", 
      "    xs = x.split()", 
      "    if xs[0].lower() in (\"new\", \"north\", \"south\", \"rhode\", \"west\"):", 
      "        return xs[0] + \" \" + xs[1]", 
      "    else:", 
      "        return xs[0]", 
      "", 
      "data = data.rename(columns=tr)", 
      "for nm in (\"East\", \"Gulf\", \"Midwest\", \"Rocky\", \"Lower\", \"U.S.\",", 
      "           \"Central\", \"New England\", \"District\", \"West Coast\"):", 
      "    del data[nm]", 
      "", 
      "state_names = list(data.columns)", 
      "state_names.remove(\"Date\")", 
      "state_names.sort()"
     ], 
     "metadata": {}
    }, 
    {
     "source": [
      "Extract a few years of data and make a data frame containing the", 
      "mean and range within each year, for each state."
     ], 
     "cell_type": "markdown", 
     "metadata": {}
    }, 
    {
     "cell_type": "code", 
     "language": "python", 
     "outputs": [], 
     "collapsed": false, 
     "input": [
      "dfs = []", 
      "for year in 2008,2009,2010:", 
      "", 
      "    ii = [i for i in data.index if str(year) in str(data.loc[i,\"Date\"])]", 
      "    mn = data.loc[ii,state_names].mean(0)", 
      "    ucd = data.loc[ii,state_names].max(0) - mn", 
      "    lcd = mn - data.loc[ii,state_names].min(0)", 
      "", 
      "    df1 = pd.DataFrame({\"point\": mn, \"ival1\": lcd, \"ival2\": ucd,", 
      "                        \"State name\": mn.index})", 
      "    df1[\"Year\"] = year", 
      "    dfs.append(df1)", 
      "", 
      "df = pd.concat(dfs, axis=0, ignore_index=True)"
     ], 
     "metadata": {}
    }, 
    {
     "source": [
      "Make a dot plot."
     ], 
     "cell_type": "markdown", 
     "metadata": {}
    }, 
    {
     "cell_type": "code", 
     "language": "python", 
     "outputs": [], 
     "collapsed": false, 
     "input": [
      "plt.figure(figsize=(9,20))", 
      "ax = plt.axes([0.18, 0.14, 0.8, 0.85]", 
      "ax = sns.dotplot(df, points=\"point\", intervals=(\"ival1\", \"ival2\"),", 
      "                 lines=\"State name\", styles=\"Year\", stacked=True,", 
      "                 striped=True)", 
      "handles, labels = ax.get_legend_handles_labels()", 
      "plt.figlegend(handles, labels, \"upper center\",", 
      "              ncol=3, numpoints=1, handletextpad=0.0001)", 
      "ax.set_xlabel(\"Gasoline price (dollars/gallon)\", labelpad=10)", 
      "plt.xlim(0, 4)"
     ], 
     "metadata": {}
    }
   ]
  }
 ], 
 "metadata": {
  "name": "wbname"
 }
}