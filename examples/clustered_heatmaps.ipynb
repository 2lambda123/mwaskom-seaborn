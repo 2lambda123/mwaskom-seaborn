{
 "metadata": {
  "name": "",
  "signature": "sha256:b5fa40c331c5349059a80f0568b409af43da246050384d8206853d13ce458b0c"
 },
 "nbformat": 3,
 "nbformat_minor": 0,
 "worksheets": [
  {
   "cells": [
    {
     "cell_type": "code",
     "collapsed": false,
     "input": [
      "%load_ext autoreload\n",
      "%autoreload 2"
     ],
     "language": "python",
     "metadata": {},
     "outputs": []
    },
    {
     "cell_type": "raw",
     "metadata": {},
     "source": [
      "Hierarchical clustering\n",
      "^^^^^^^^^^^^^^^^^^^^^^^\n",
      "\n",
      "When you have many categorical measurements for a bunch of samples, it can be helpful to visualize \"clusters\" in the data. As an example, we'll use a few players' stats from the 2007-2008 NBA season.\n",
      "\n",
      "The argument list of `clusteredheatmap` is very long and we'll try to break it down step-by-step."
     ]
    },
    {
     "cell_type": "code",
     "collapsed": false,
     "input": [
      "import pandas as pd\n",
      "import seaborn as sns\n",
      "\n",
      "# data = pd.read_csv('http://datasets.flowingdata.com/ppg2008.csv', index_col=0)\n",
      "data = pd.read_csv('/Users/olga/Dropbox/ipython/seaborn/ppg2008.csv.bak', index_col=0)\n",
      "data.index = data.index.map(lambda x: x.strip())\n",
      "\n",
      "# label source:https://en.wikipedia.org/wiki/Basketball_statistics\n",
      "labels = ['Games', 'Minutes', 'Points', 'Field goals made',\n",
      "          'Field goal attempts', 'Field goal percentage', 'Free throws made',\n",
      "          'Free throws attempts', 'Free throws percentage',\n",
      "          'Three-pointers made', 'Three-point attempt',\n",
      "          'Three-point percentage', 'Offensive rebounds', 'Defensive rebounds',\n",
      "          'Total rebounds', 'Assists', 'Steals', 'Blocks', 'Turnover',\n",
      "          'Personal foul']\n",
      "data.columns = labels"
     ],
     "language": "python",
     "metadata": {},
     "outputs": []
    },
    {
     "cell_type": "raw",
     "metadata": {},
     "source": [
      "Let's see what this looks like by default. `clusteredheatmap` outputs the row and column dendrogram as well as plots the heatmap, so you can use the dendrogram order later. These are dendrograms created by `scipy.cluster.hierarchy.dendrogram`, so they're just `dicts` with the keys `'leaves'` (list of integer indicies in the clustered order), `'ilvl'` (same as `'leaves'`, but as strings instead of integers), `'color_list'` (color of each branch), `'icoord'` (coordinates of the branches, based off of indices), `'dcoord'` (coordinates of the branches, based off of the depth)."
     ]
    },
    {
     "cell_type": "code",
     "collapsed": false,
     "input": [
      "p = sns.clusteredheatmap(data)"
     ],
     "language": "python",
     "metadata": {},
     "outputs": []
    },
    {
     "cell_type": "markdown",
     "metadata": {},
     "source": [
      "That's "
     ]
    },
    {
     "cell_type": "code",
     "collapsed": false,
     "input": [
      "p = sns.clusteredheatmap(data)\n"
     ],
     "language": "python",
     "metadata": {},
     "outputs": []
    },
    {
     "cell_type": "raw",
     "metadata": {},
     "source": [
      "This looks fine, but the values of \"Games\" and \"Minutes\" are so much larger than the others, so let's standardize the data across all of the measurements, so they're comparable. While we're at it, let's transpose this so it fits a little better on the screen and is wider than it is tall."
     ]
    },
    {
     "cell_type": "code",
     "collapsed": false,
     "input": [
      "data_normalized = data\n",
      "\n",
      "# Standardize the mean and variance within a stat, so different stats can be comparable\n",
      "# (This is the same as changing all the columns to Z-scores)\n",
      "data_normalized = (data_normalized - data_normalized.mean())/data_normalized.var()\n",
      "\n",
      "# Normalize these values to range from -1 to 1\n",
      "data_normalized = (data_normalized)/(data_normalized.max() - data_normalized.min())\n",
      "\n",
      "data_normalized = data_normalized.T\n",
      "\n",
      "# Can use a semicolon after the command to suppress output of the row_dendrogram and col_dendrogram.\n",
      "sns.clusteredheatmap(data_normalized);"
     ],
     "language": "python",
     "metadata": {},
     "outputs": []
    },
    {
     "cell_type": "raw",
     "metadata": {},
     "source": [
      "Great! Now we can compare players performances across multiple statistics, and see which statistics seem anticorrelated as a group. "
     ]
    },
    {
     "cell_type": "raw",
     "metadata": {},
     "source": [
      "Saving Figures\n",
      "^^^^^^^^^^^^^^\n",
      "\n",
      "This looks good! But how do we save figures? In matplotlib, you can get the current figure instance with `plt.gcf`.\n",
      "\n",
      "****VERY IMPORTANT**** : When saving the figure, make sure to specify `bbox_inches='tight'`, otherwise your heatmap will be cut off :( Also `plt.tight_layout()` is not your friend here, it will fail because of the complicated figure layout."
     ]
    },
    {
     "cell_type": "code",
     "collapsed": false,
     "input": [
      "import matplotlib.pyplot as plt\n",
      "sns.clusteredheatmap(data_normalized);\n",
      "fig = plt.gcf()\n",
      "fig.savefig('clusteredheatmap_bbox_tight.png', bbox_inches='tight')"
     ],
     "language": "python",
     "metadata": {},
     "outputs": []
    },
    {
     "cell_type": "raw",
     "metadata": {},
     "source": [
      "Tidy data\n",
      "^^^^^^^^^\n",
      "\n",
      "Next, you may want to use a `tidy` dataframe (as in the rest of seaborn) instead of a 2-dimensional `samples x features` type dataframe. Then, just supply `pivot_kws` for how to pivot the dataframe into a 2D dataframe."
     ]
    },
    {
     "cell_type": "code",
     "collapsed": false,
     "input": [
      "tidy_df = pd.melt(data_normalized.reset_index(), id_vars='index')\n",
      "tidy_df.head()"
     ],
     "language": "python",
     "metadata": {},
     "outputs": []
    },
    {
     "cell_type": "code",
     "collapsed": false,
     "input": [
      "pivot_kws = dict(index='index', columns='variable', values='value')\n",
      "tidy_df.pivot(**pivot_kws).head()"
     ],
     "language": "python",
     "metadata": {},
     "outputs": []
    },
    {
     "cell_type": "code",
     "collapsed": false,
     "input": [
      "sns.clusteredheatmap(tidy_df, pivot_kws=pivot_kws);"
     ],
     "language": "python",
     "metadata": {},
     "outputs": []
    },
    {
     "cell_type": "raw",
     "metadata": {},
     "source": [
      "Titles\n",
      "^^^^^^\n",
      "\n",
      "To add a title, just add the argument `title`. You can also adjust the fontsize with `title_fontsize`"
     ]
    },
    {
     "cell_type": "code",
     "collapsed": false,
     "input": [
      "sns.clusteredheatmap(data_normalized, title='2008 NBA Stats', title_fontsize=24);"
     ],
     "language": "python",
     "metadata": {},
     "outputs": []
    },
    {
     "cell_type": "raw",
     "metadata": {},
     "source": [
      "Figure and label size\n",
      "^^^^^^^^^^^\n",
      "\n",
      "By default, the figure will be sized based on the input dataframe (`figsize = (data.shape[0]*0.5, data.shape[0]*0.5)`, but only to maximum height and width of 40). You can change the figure size with the keyword `figsize`. Also, change the size of the xticklabels and yticklabels via `labelsize`. Unfortunately, at this time you must change both of them together."
     ]
    },
    {
     "cell_type": "code",
     "collapsed": false,
     "input": [
      "sns.clusteredheatmap(data_normalized, figsize=(10, 5), labelsize=10);"
     ],
     "language": "python",
     "metadata": {},
     "outputs": []
    },
    {
     "cell_type": "raw",
     "metadata": {},
     "source": [
      "Log-scale\n",
      "^^^^^^^^^\n",
      "\n",
      "If your data values tend to differ by orders of magnitude, you can both calculate linkage on the log-transformed data, and color the data by a log-scale instead of a linear scale with `color_scale=\"log\"`."
     ]
    },
    {
     "cell_type": "code",
     "collapsed": false,
     "input": [
      "sns.clusteredheatmap(data, color_scale='log');"
     ],
     "language": "python",
     "metadata": {},
     "outputs": []
    },
    {
     "cell_type": "raw",
     "metadata": {},
     "source": [
      "Clustering data with NAs\n",
      "^^^^^^^^^^^^^^^^^^^^^^^^\n",
      "\n",
      "You may have noticed that the above command didn't plot the dendrogram. That's because `scipy.cluster.hierarchy.linkage` can only calculate linkage of complete matrices, without NAs (in this case, where the value was 0). But, you can still plot a clustered heatmap by supplying a `data_na_ok` dataframe, and making sure that `data` indeed has no potential NAs."
     ]
    },
    {
     "cell_type": "code",
     "collapsed": false,
     "input": [
      "sns.clusteredheatmap(data.replace(0, 0.0001), color_scale='log', data_na_ok=data);"
     ],
     "language": "python",
     "metadata": {},
     "outputs": []
    },
    {
     "cell_type": "raw",
     "metadata": {},
     "source": [
      "Linkage method and metric customiziations\n",
      "^^^^^^^^^^^^^^^^^^^^^^^^^^^^^^^^^^^^^^^^^\n",
      "\n",
      "Default `linkage_method` is `\"average\"` and the default `metric` is `\"euclidean\"`. Any valid `linkage_method` for `scipy.cluster.hierarchy.linkage` or `metric` for `scipy.spatial.distance.pdist` from  is accepted. If you have pre-calculated your own linkage matrix, check out the section \"Row and column customizations\" for how to specify it."
     ]
    },
    {
     "cell_type": "code",
     "collapsed": false,
     "input": [
      "# Wacky example of custom linkage method and metric\n",
      "sns.clusteredheatmap(data_normalized, linkage_method='complete', metric='hamming');"
     ],
     "language": "python",
     "metadata": {},
     "outputs": []
    },
    {
     "cell_type": "raw",
     "metadata": {},
     "source": [
      "Heatmap customizations\n",
      "^^^^^^^^^^^^^^^^^^^^^^\n",
      "\n",
      "We use the matplotlib fuction `pcolormesh` to plot the heatmap itself (it's faster for big matrices than `pcolor`, and `imshow` is better for images because it somewhat rasterizes them). Here you can specify the minimum value plotted via `\"vmin\"`, and a different colormap via `\"cmap\"`. This is also where you change the fontsize of the text labels."
     ]
    },
    {
     "cell_type": "code",
     "collapsed": false,
     "input": [
      "import matplotlib as mpl\n",
      "sns.clusteredheatmap(data_normalized, pcolormesh_kws={'linewidth': 0.1, 'vmin': 0, 'cmap': mpl.cm.Greens});"
     ],
     "language": "python",
     "metadata": {},
     "outputs": []
    },
    {
     "cell_type": "raw",
     "metadata": {},
     "source": [
      "Row and column customizations\n",
      "^^^^^^^^^^^^^^^^^^^^^^^^^^^^^\n",
      "\n",
      "The keyword arguments within `col_kws` and `row_kws` are powerful but can be confusing. They are \n",
      "\n",
      "* `\"linkage_matrix\"`. Default `None`. If you have already calculated a linkage matrix (e.g. through simulations), then supply it here. For example, if you have the column linkage matrix, do `col_kws={'linkage_matrix': col_linkage_matrix}`\n",
      "* `cluster`. Default True. Whether or not to cluster this dimension. Maybe you have the rows in a particular order and only want to cluster the columns, then do `row_kws={'cluster': False}`\n",
      "* `label`. Default True. Whether or not to label this dimension. Otherwise, can be an iterable (list or pandas Index or Series) to relabel a dimension.\n",
      "* `side_colors`. Default None, otherwise a list of colors. Whether or not you want to add a color label to that dimension.\n",
      "\n",
      "Here's an example of a few of thse working together. Some of them are the defaults but are there just for illustrative purposes on how to specify multiple keyword arguments."
     ]
    },
    {
     "cell_type": "code",
     "collapsed": false,
     "input": [
      "colors = sns.color_palette('Set2', n_colors=6)\n",
      "\n",
      "def stat_to_label(stat):\n",
      "    if set([stat]) & set(('Games', 'Minutes', 'Points')):\n",
      "        return colors[0]\n",
      "    if stat.startswith('Field'):\n",
      "        return colors[1]\n",
      "    if stat.startswith('Free'):\n",
      "        return colors[2]\n",
      "    if stat.startswith('Three'):\n",
      "        return colors[3]\n",
      "    if 'rebounds' in stat:\n",
      "        return colors[4]\n",
      "    else:\n",
      "        return colors[5]\n",
      "    \n",
      "stat_colors = data_normalized.index.map(stat_to_label)\n",
      "\n",
      "row_labels = data_normalized.index.map(lambda x: 'relabel {}'.format(x))\n",
      "sns.clusteredheatmap(data_normalized, row_kws={'side_colors': stat_colors, 'label': row_labels},\n",
      "                     col_kws={'cluster': True});"
     ],
     "language": "python",
     "metadata": {},
     "outputs": []
    },
    {
     "cell_type": "raw",
     "metadata": {},
     "source": [
      "Colorbar customization\n",
      "^^^^^^^^^^^^^^^^^^^^^^\n",
      "\n",
      "You can customize the appearance of the colorbar with `colorbar_kws`, specifically,\n",
      "\n",
      "* `'fontsize'`. Default 14. Size of the ticklabels.\n",
      "* `'label'`. Default `\"values\"`. Label on the colorbar.\n",
      "* `'orientation'`. Default `'horizontal'`. Whether the colorbar is oriented horizontally or vertically. The heatmap was designed for the colorbar to be horizontal, so vertical orientation is not recommended.\n",
      "* Anything else accepted by `plt.colorbar`"
     ]
    },
    {
     "cell_type": "code",
     "collapsed": false,
     "input": [
      "sns.clusteredheatmap(data_normalized, colorbar_kws={'orientation': 'vertical', 'label': 'Normalized stat', 'fontsize': 10});"
     ],
     "language": "python",
     "metadata": {},
     "outputs": []
    },
    {
     "cell_type": "raw",
     "metadata": {},
     "source": [
      "Fastcluster\n",
      "^^^^^^^^^^^\n",
      "\n",
      "Scipy's clustering module is rather slow, especially if you have more than 1000 rows or columns. If you have more than 1000, this will attempt to import `fastcluster` (available via `pip install fastcluster`) and use the linkage function there. If you want to always use fastcluster, do `use_fastcluster=True`."
     ]
    }
   ],
   "metadata": {}
  }
 ]
}