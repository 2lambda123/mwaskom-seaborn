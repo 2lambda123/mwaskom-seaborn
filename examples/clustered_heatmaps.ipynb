{
 "metadata": {
  "name": "",
  "signature": "sha256:0807334e31d0c0d1a27ec92984bc5816d315dd552626fb38c6c403f6af8737d8"
 },
 "nbformat": 3,
 "nbformat_minor": 0,
 "worksheets": [
  {
   "cells": [
    {
     "cell_type": "code",
     "collapsed": false,
     "input": [
      "clustering"
     ],
     "language": "python",
     "metadata": {},
     "outputs": []
    },
    {
     "cell_type": "code",
     "collapsed": false,
     "input": [
      "import pandas as pd\n",
      "import seaborn as sns\n",
      "\n",
      "# data = pd.read_csv('http://datasets.flowingdata.com/ppg2008.csv', index_col=0)\n",
      "data = pd.read_csv('ppg2008.csv')\n",
      "data.index = data.index.map(lambda x: x.strip())\n",
      "\n",
      "# label source:https://en.wikipedia.org/wiki/Basketball_statistics\n",
      "labels = ['Games','Minutes','Points','Field goals made','Field goal attempts','Field goal percentage','Free throws made','Free throws attempts','Free throws percentage','Three-pointers made','Three-point attempt','Three-point percentage','Offensive rebounds','Defensive rebounds','Total rebounds','Assists','Steals','Blocks','Turnover','Personal foul']\n",
      "data.columns = labels"
     ],
     "language": "python",
     "metadata": {},
     "outputs": []
    }
   ],
   "metadata": {}
  }
 ]
}