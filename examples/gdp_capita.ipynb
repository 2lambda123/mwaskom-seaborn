{
 "nbformat": 3, 
 "nbformat_minor": 0, 
 "worksheets": [
  {
   "cells": [
    {
     "cell_type": "code", 
     "language": "python", 
     "outputs": [], 
     "collapsed": false, 
     "input": [
      "import pandas as pd", 
      "import numpy as np", 
      "import zipfile", 
      "import urllib2", 
      "import StringIO", 
      "import seaborn as sns", 
      "import matplotlib.pyplot as plt"
     ], 
     "metadata": {}
    }, 
    {
     "source": [
      "The data files are available from the World Bank's web site.  The", 
      "downloadable file is a zip archive containing several files.  Only", 
      "one of the files is needed here."
     ], 
     "cell_type": "markdown", 
     "metadata": {}
    }, 
    {
     "cell_type": "code", 
     "language": "python", 
     "outputs": [], 
     "collapsed": false, 
     "input": [
      "# URL and file name for the GDP data", 
      "gdp_urlpath = \"http://api.worldbank.org/v2/en/indicator/ny.gdp.pcap.cd?downloadformat=csv\"", 
      "gdp_filename = \"ny.gdp.pcap.cd_Indicator_en_csv_v2.csv\"", 
      "", 
      "# URL and file name for the population data", 
      "pop_urlpath = \"http://api.worldbank.org/v2/en/indicator/sp.pop.totl?downloadformat=csv\"", 
      "pop_filename = \"sp.pop.totl_Indicator_en_csv_v2.csv\""
     ], 
     "metadata": {}
    }, 
    {
     "cell_type": "code", 
     "language": "python", 
     "outputs": [], 
     "collapsed": false, 
     "input": [
      "def get_from_wbzip(zip_url, filename):", 
      "    \"\"\" Download a World Bank zip archive, extract one data file from", 
      "    it, and convert it to a Python DataFrame.  The country code", 
      "    (located in column 1) is the index.\"\"\"", 
      "", 
      "    zipball = urllib2.urlopen(zip_url).read()", 
      "    zipballs = StringIO.StringIO(zipball)", 
      "    zip = zipfile.ZipFile(zipballs)", 
      "    rdata = zip.open(filename)", 
      "    data = pd.read_csv(rdata, skiprows=2, index_col=1)", 
      "", 
      "    return data"
     ], 
     "metadata": {}
    }, 
    {
     "source": [
      "Get the GDP and population data."
     ], 
     "cell_type": "markdown", 
     "metadata": {}
    }, 
    {
     "cell_type": "code", 
     "language": "python", 
     "outputs": [], 
     "collapsed": false, 
     "input": [
      "gdp_data = get_from_wbzip(gdp_urlpath, gdp_filename)", 
      "pop_data = get_from_wbzip(pop_urlpath, pop_filename)"
     ], 
     "metadata": {}
    }, 
    {
     "source": [
      "We want to merge the data by row (country code), but since the", 
      "column names are the same in the two files, we want to rename them", 
      "first."
     ], 
     "cell_type": "markdown", 
     "metadata": {}
    }, 
    {
     "cell_type": "code", 
     "language": "python", 
     "outputs": [], 
     "collapsed": false, 
     "input": [
      "tr = {str(x): str(x) + \" gdp\" for x in range(1950, 2020)}", 
      "gdp_data = gdp_data.rename(columns=tr)", 
      "tr = {str(x): str(x) + \" pop\" for x in range(1950, 2020)}", 
      "pop_data = pop_data.rename(columns=tr)"
     ], 
     "metadata": {}
    }, 
    {
     "source": [
      "Remove duplicated columns before merge"
     ], 
     "cell_type": "markdown", 
     "metadata": {}
    }, 
    {
     "cell_type": "code", 
     "language": "python", 
     "outputs": [], 
     "collapsed": false, 
     "input": [
      "del gdp_data[\"Country Name\"]", 
      "del gdp_data[\"Indicator Name\"]", 
      "del gdp_data[\"Indicator Code\"]", 
      "del gdp_data[\"Unnamed: 57\"]"
     ], 
     "metadata": {}
    }, 
    {
     "source": [
      "Now we can merge."
     ], 
     "cell_type": "markdown", 
     "metadata": {}
    }, 
    {
     "cell_type": "code", 
     "language": "python", 
     "outputs": [], 
     "collapsed": false, 
     "input": [
      "data = pd.concat((gdp_data, pop_data), axis=1)"
     ], 
     "metadata": {}
    }, 
    {
     "source": [
      "Select the larger countries."
     ], 
     "cell_type": "markdown", 
     "metadata": {}
    }, 
    {
     "cell_type": "code", 
     "language": "python", 
     "outputs": [], 
     "collapsed": false, 
     "input": [
      "ix = data.index[data[\"2012 pop\"] >= 1e7]", 
      "data = data.loc[ix,:]"
     ], 
     "metadata": {}
    }, 
    {
     "source": [
      "Read in the regions and merge"
     ], 
     "cell_type": "markdown", 
     "metadata": {}
    }, 
    {
     "cell_type": "code", 
     "language": "python", 
     "outputs": [], 
     "collapsed": false, 
     "input": [
      "regions = pd.read_csv(\"regions.csv\", index_col=0)", 
      "del regions[\"Country Name\"]", 
      "data = pd.concat((data, regions), axis=1)", 
      "ix = pd.notnull(data[\"Region\"])", 
      "data = data.loc[ix,:]"
     ], 
     "metadata": {}
    }, 
    {
     "source": [
      "Plot the 2012 GDP values"
     ], 
     "cell_type": "markdown", 
     "metadata": {}
    }, 
    {
     "cell_type": "code", 
     "language": "python", 
     "outputs": [], 
     "collapsed": false, 
     "input": [
      "plt.figure(figsize=(9,20))", 
      "ax = sns.dotplot(data, \"2012 gdp\", lines=\"Country Name\",", 
      "                 sections=\"Region\")", 
      "ax.set_position([0.25, 0.1, 0.7, 0.87])", 
      "plt.xlabel(\"2012 GDP/capita (USD)\")", 
      "plt.xlim(-500, 70000)"
     ], 
     "metadata": {}
    }, 
    {
     "source": [
      "Add stripes"
     ], 
     "cell_type": "markdown", 
     "metadata": {}
    }, 
    {
     "cell_type": "code", 
     "language": "python", 
     "outputs": [], 
     "collapsed": false, 
     "input": [
      "plt.figure(figsize=(9,20))", 
      "ax = sns.dotplot(data, \"2012 gdp\", lines=\"Country Name\",", 
      "                 sections=\"Region\", striped=True)", 
      "ax.set_position([0.25, 0.1, 0.7, 0.87])", 
      "plt.xlabel(\"2012 GDP/capita (USD)\")", 
      "plt.xlim(-500, 70000)"
     ], 
     "metadata": {}
    }, 
    {
     "source": [
      "Order the lines within sections"
     ], 
     "cell_type": "markdown", 
     "metadata": {}
    }, 
    {
     "cell_type": "code", 
     "language": "python", 
     "outputs": [], 
     "collapsed": false, 
     "input": [
      "ii = pd.notnull(data[\"2012 gdp\"])", 
      "data = data.loc[ii,:]", 
      "ol = np.argsort(data[\"2012 gdp\"])", 
      "ol = [data[\"Country Name\"].iloc[i] for i in ol]", 
      "plt.figure(figsize=(9,20))", 
      "ax = sns.dotplot(data, \"2012 gdp\", lines=\"Country Name\",", 
      "                 sections=\"Region\", line_order=ol)", 
      "ax.set_position([0.25, 0.1, 0.7, 0.87])", 
      "plt.xlabel(\"2012 GDP/capita (USD)\")", 
      "plt.xlim(-500, 70000)"
     ], 
     "metadata": {}
    }, 
    {
     "source": [
      "Reshape from wide to long"
     ], 
     "cell_type": "markdown", 
     "metadata": {}
    }, 
    {
     "cell_type": "code", 
     "language": "python", 
     "outputs": [], 
     "collapsed": false, 
     "input": [
      "idv = list(data.columns)", 
      "idv.remove(\"2000 gdp\")", 
      "idv.remove(\"2012 gdp\")", 
      "data = pd.melt(data, id_vars=idv, var_name=\"Year\", value_name=\"GDP\")", 
      "data[\"Year\"] = [int(x[0:4]) for x in data[\"Year\"]]"
     ], 
     "metadata": {}
    }, 
    {
     "source": [
      "Plot the 2000 and 2012 GDP values on the same axes"
     ], 
     "cell_type": "markdown", 
     "metadata": {}
    }, 
    {
     "cell_type": "code", 
     "language": "python", 
     "outputs": [], 
     "collapsed": false, 
     "input": [
      "ax = sns.dotplot(data, \"GDP\", lines=\"Country Name\", sections=\"Region\",", 
      "            styles=\"Year\", line_order=ol)", 
      "handles, labels = ax.get_legend_handles_labels()", 
      "leg = plt.figlegend(handles, labels, \"upper center\", ncol=2,", 
      "                    numpoints=1, handletextpad=0.0001)", 
      "leg.draw_frame(False)", 
      "plt.xlim(-500, 70000)", 
      "ax.set_position([0.25, 0.1, 0.7, 0.87])", 
      "plt.xlabel(\"2012 GDP/capita (USD)\")"
     ], 
     "metadata": {}
    }, 
    {
     "source": [
      "Stack the points on each line"
     ], 
     "cell_type": "markdown", 
     "metadata": {}
    }, 
    {
     "cell_type": "code", 
     "language": "python", 
     "outputs": [], 
     "collapsed": false, 
     "input": [
      "ax = sns.dotplot(data, \"GDP\", lines=\"Country Name\", sections=\"Region\",", 
      "            styles=\"Year\", line_order=ol, stacked=True)", 
      "handles, labels = ax.get_legend_handles_labels()", 
      "leg = plt.figlegend(handles, labels, \"upper center\", ncol=2,", 
      "                    numpoints=1, handletextpad=0.0001)", 
      "leg.draw_frame(False)", 
      "plt.xlim(-500, 70000)", 
      "ax.set_position([0.25, 0.1, 0.7, 0.87])", 
      "plt.xlabel(\"2012 GDP/capita (USD)\")"
     ], 
     "metadata": {}
    }
   ]
  }
 ], 
 "metadata": {
  "name": "wbname"
 }
}