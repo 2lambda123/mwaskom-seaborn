{
 "cells": [
  {
   "cell_type": "code",
   "execution_count": null,
   "id": "0c497293-93ae-47f8-b1bd-148b1d5f86e2",
   "metadata": {
    "tags": [
     "hide"
    ]
   },
   "outputs": [],
   "source": [
    "import seaborn.objects as so\n",
    "from seaborn import load_dataset\n",
    "penguins = load_dataset(\"penguins\")"
   ]
  },
  {
   "cell_type": "raw",
   "id": "adb3e5c1-ea8b-407c-b887-e62cb58ecaca",
   "metadata": {},
   "source": [
    "By default, the mark is drawn between minimum and maximum values for each group:"
   ]
  },
  {
   "cell_type": "code",
   "execution_count": null,
   "id": "8229467d-6d98-465c-bfda-516703e6de0e",
   "metadata": {},
   "outputs": [],
   "source": [
    "(\n",
    "    so.Plot(penguins, x=\"species\", y=\"flipper_length_mm\")\n",
    "    .add(so.Box())\n",
    ")"
   ]
  },
  {
   "cell_type": "raw",
   "id": "40490d1f-e7f3-498e-8470-57fefe9e49e3",
   "metadata": {},
   "source": [
    "Add a stat transform, e.g. using :class:`Perc`, to show a different range:"
   ]
  },
  {
   "cell_type": "code",
   "execution_count": null,
   "id": "bf32ad1a-6600-474b-ad68-efe7152c8d10",
   "metadata": {},
   "outputs": [],
   "source": [
    "(\n",
    "    so.Plot(penguins, x=\"species\", y=\"flipper_length_mm\")\n",
    "    .add(so.Box(), so.Perc([25, 75]))\n",
    ")"
   ]
  },
  {
   "cell_type": "raw",
   "id": "d6a79958-af3d-4bb1-b34b-2967f0406643",
   "metadata": {},
   "source": [
    "The mark is oriented and will be drawn horizontally if the y axis has a nominal scale (or if `orient=\"y\"` is passed to :meth:`Plot.add`):"
   ]
  },
  {
   "cell_type": "code",
   "execution_count": null,
   "id": "0ad545d0-209c-4f69-874c-aa998b9267fe",
   "metadata": {},
   "outputs": [],
   "source": [
    "(\n",
    "    so.Plot(penguins, x=\"flipper_length_mm\", y=\"species\")\n",
    "    .add(so.Box(), so.Perc([25, 75]))\n",
    ")"
   ]
  },
  {
   "cell_type": "raw",
   "id": "45d7dd8f-1c35-4cb5-a5b7-a937b97fe344",
   "metadata": {},
   "source": [
    "It's also possible to supply explicit min/max values:"
   ]
  },
  {
   "cell_type": "code",
   "execution_count": null,
   "id": "4e94c216-eb6b-4bd2-b477-8424a9b234aa",
   "metadata": {},
   "outputs": [],
   "source": [
    "(\n",
    "    so.Plot([\"a\", \"b\", \"c\"], ymin=[1, 2, 3], ymax=[2, 4, 6])\n",
    "    .add(so.Box())\n",
    ")"
   ]
  },
  {
   "cell_type": "raw",
   "id": "03d9b61c-aa70-4a76-910f-a7428f74f5ea",
   "metadata": {},
   "source": [
    "When mappings create multiple groups, using a move such as :class:`Dodge` will be helpful:"
   ]
  },
  {
   "cell_type": "code",
   "execution_count": null,
   "id": "8da51c9e-9aac-40ed-bed6-0578cdb0f6af",
   "metadata": {},
   "outputs": [],
   "source": [
    "(\n",
    "    so.Plot(penguins, x=\"island\", y=\"flipper_length_mm\", color=\"sex\")\n",
    "    .add(so.Box(), so.Perc([25, 75]), so.Dodge())\n",
    ")"
   ]
  },
  {
   "cell_type": "raw",
   "id": "4887987f-aff2-4e2d-af8a-7998567db155",
   "metadata": {},
   "source": [
    "A number of properties can be set:"
   ]
  },
  {
   "cell_type": "code",
   "execution_count": null,
   "id": "3c67e4e6-f062-4b0a-bb85-f38863907fa6",
   "metadata": {},
   "outputs": [],
   "source": [
    "(\n",
    "    so.Plot(penguins, x=\"species\", y=\"flipper_length_mm\")\n",
    "    .add(so.Box(color=\"g\", alpha=.5, edgecolor=\".3\", edgewidth=3, width=.6))\n",
    ")"
   ]
  },
  {
   "cell_type": "code",
   "execution_count": null,
   "id": "131af95c-5fd9-4859-82b1-448b34189421",
   "metadata": {},
   "outputs": [],
   "source": []
  }
 ],
 "metadata": {
  "kernelspec": {
   "display_name": "py310",
   "language": "python",
   "name": "py310"
  },
  "language_info": {
   "codemirror_mode": {
    "name": "ipython",
    "version": 3
   },
   "file_extension": ".py",
   "mimetype": "text/x-python",
   "name": "python",
   "nbconvert_exporter": "python",
   "pygments_lexer": "ipython3",
   "version": "3.10.6"
  }
 },
 "nbformat": 4,
 "nbformat_minor": 5
}
