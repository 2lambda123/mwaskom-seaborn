{
 "cells": [
  {
   "cell_type": "code",
   "execution_count": 1,
   "id": "2923956c-f141-4ecb-ab08-e819099f0fa9",
   "metadata": {
    "tags": [
     "hide"
    ]
   },
   "outputs": [],
   "source": [
    "import seaborn.objects as so\n",
    "from seaborn import load_dataset\n",
    "dowjones = load_dataset(\"dowjones\")"
   ]
  },
  {
   "cell_type": "raw",
   "id": "09694cb8-4867-49fc-80a6-a4551e50b77e",
   "metadata": {},
   "source": [
    "The mark is just a:class:`Line` styled to draw a step function:"
   ]
  },
  {
   "cell_type": "code",
   "execution_count": null,
   "id": "acd5788f-e62b-497c-a109-f0bc02b8cae9",
   "metadata": {},
   "outputs": [],
   "source": [
    "so.Plot(dowjones.head(50), \"Date\", \"Price\").add(so.StepLine())"
   ]
  },
  {
   "attachments": {},
   "cell_type": "raw",
   "id": "aaab3914-77d7-4d09-bdbe-f057a2fe28cf",
   "metadata": {},
   "source": [
    "The same effect may be achieved with `artist_kws={\"drawstyle\":\"steps-post\"}` parameter of :class:`Line`."
   ]
  },
  {
   "cell_type": "code",
   "execution_count": null,
   "id": "74715064",
   "metadata": {},
   "outputs": [],
   "source": [
    "so.Plot(dowjones.head(50), \"Date\", \"Price\").add(so.Line(artist_kws={\"drawstyle\":\"steps-post\"}))"
   ]
  }
 ],
 "metadata": {
  "kernelspec": {
   "display_name": "venv",
   "language": "python",
   "name": "python3"
  },
  "language_info": {
   "codemirror_mode": {
    "name": "ipython",
    "version": 3
   },
   "file_extension": ".py",
   "mimetype": "text/x-python",
   "name": "python",
   "nbconvert_exporter": "python",
   "pygments_lexer": "ipython3",
   "version": "3.10.7"
  },
  "vscode": {
   "interpreter": {
    "hash": "1352e0c5a9cd3a71048344e686b8424bbd1d67dda13e2a12e21959cd5145b9c6"
   }
  }
 },
 "nbformat": 4,
 "nbformat_minor": 5
}
