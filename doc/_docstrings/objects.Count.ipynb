{
 "cells": [
  {
   "cell_type": "code",
   "execution_count": null,
   "id": "89113d6b-70b9-4ebe-9910-10a80eab246e",
   "metadata": {
    "tags": [
     "hide"
    ]
   },
   "outputs": [],
   "source": [
    "import seaborn.objects as so\n",
    "from seaborn import load_dataset\n",
    "tips = load_dataset(\"tips\")"
   ]
  },
  {
   "cell_type": "raw",
   "id": "daf6ff78-df24-4541-ba72-73fb9eddb50d",
   "metadata": {},
   "source": [
    "The transform counts distinct observations of the orientation variable defines a new variable on the opposite axis:"
   ]
  },
  {
   "cell_type": "code",
   "execution_count": null,
   "id": "390f2fd3-0596-40e3-b262-163b3a90d055",
   "metadata": {},
   "outputs": [],
   "source": [
    "so.Plot(tips, x=\"day\").add(so.Bar(), so.Count())"
   ]
  },
  {
   "cell_type": "raw",
   "id": "813fb4a5-db68-4b51-b236-5b5628ebba47",
   "metadata": {},
   "source": [
    "When additional mapping variables are defined, they are also used to define groups:"
   ]
  },
  {
   "cell_type": "code",
   "execution_count": null,
   "id": "76a4ae70-e914-4f54-b979-ce1b79374fc3",
   "metadata": {},
   "outputs": [],
   "source": [
    "so.Plot(tips, x=\"day\", color=\"sex\").add(so.Bar(), so.Count(), so.Dodge())"
   ]
  },
  {
   "cell_type": "raw",
   "id": "11acd5e6-f477-4eb1-b1d7-72f4582bca45",
   "metadata": {},
   "source": [
    "When the `y` variable is defined, the counts are assigned to the `x` variable:"
   ]
  },
  {
   "cell_type": "code",
   "execution_count": null,
   "id": "924e0e35-210f-4f65-83b4-4aebe41ad264",
   "metadata": {},
   "outputs": [],
   "source": [
    "so.Plot(tips, y=\"day\").add(so.Bar(), so.Count())"
   ]
  }
 ],
 "metadata": {
  "kernelspec": {
   "display_name": "py310",
   "language": "python",
   "name": "py310"
  },
  "language_info": {
   "codemirror_mode": {
    "name": "ipython",
    "version": 3
   },
   "file_extension": ".py",
   "mimetype": "text/x-python",
   "name": "python",
   "nbconvert_exporter": "python",
   "pygments_lexer": "ipython3",
   "version": "3.10.0"
  }
 },
 "nbformat": 4,
 "nbformat_minor": 5
}
