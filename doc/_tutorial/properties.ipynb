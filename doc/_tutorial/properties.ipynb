{
 "cells": [
  {
   "cell_type": "raw",
   "id": "6cb222bb-4781-48b6-9675-c0ba195b5efb",
   "metadata": {},
   "source": [
    ".. _properties_tutorial:\n",
    "\n",
    "Properties of Mark objects\n",
    "==========================="
   ]
  },
  {
   "cell_type": "code",
   "execution_count": null,
   "id": "ae9d52dc-55ad-4804-a533-f2b724d0b85b",
   "metadata": {
    "tags": [
     "hide"
    ]
   },
   "outputs": [],
   "source": [
    "import numpy as np\n",
    "import matplotlib as mpl\n",
    "import seaborn.objects as so\n",
    "from seaborn import axes_style, color_palette"
   ]
  },
  {
   "cell_type": "raw",
   "id": "dd828c60-3895-46e4-a2f4-782a6e6cd9a6",
   "metadata": {},
   "source": [
    "Coordinate properties\n",
    "---------------------"
   ]
  },
  {
   "cell_type": "raw",
   "id": "b9da7f32-f9fd-49f2-babc-39fa755f5a7a",
   "metadata": {},
   "source": [
    ".. _coordinate_property:\n",
    "\n",
    "x, y, xmin, xmax, ymin, ymax\n",
    "~~~~~~~~~~~~~~~~~~~~~~~~~~~~\n"
   ]
  },
  {
   "cell_type": "raw",
   "id": "8279d74f-0cd0-4ba8-80ed-c6051541d956",
   "metadata": {},
   "source": [
    "Color properties\n",
    "----------------"
   ]
  },
  {
   "cell_type": "raw",
   "id": "fca25527-6bbe-42d6-beea-a996a46d9761",
   "metadata": {},
   "source": [
    ".. _color_property:\n",
    "\n",
    "color, fillcolor, edgecolor\n",
    "~~~~~~~~~~~~~~~~~~~~~~~~~~~\n",
    "\n",
    "All marks can be given a `color`, and many distinguish between the color of the mark's \"edge\" and \"fill\". Often, simply using `color` will set both, while the more-specific properties allow further control:"
   ]
  },
  {
   "cell_type": "code",
   "execution_count": null,
   "id": "1dda4c42-31f4-4316-baad-f30a465d3fd9",
   "metadata": {
    "tags": [
     "hide"
    ]
   },
   "outputs": [],
   "source": [
    "color_mark = so.Dot(marker=\"s\", pointsize=20, edgewidth=2.5, alpha=.7, edgealpha=1)\n",
    "color_plot = (\n",
    "    so.Plot()\n",
    "    .theme({\n",
    "        **axes_style(\"white\"),\n",
    "        **{\n",
    "            f\"axes.spines.{side}\": False\n",
    "            for side in [\"left\", \"right\", \"bottom\", \"top\"]\n",
    "        },\n",
    "        \"axes.titlesize\": 15,\n",
    "        \"figure.subplot.wspace\": .1,\n",
    "        \"axes.xmargin\": .1,\n",
    "    })\n",
    "    .scale(\n",
    "        x=so.Continuous().tick(count=0),\n",
    "        y=so.Continuous().tick(count=0),\n",
    "        color=None, edgecolor=None,\n",
    "    )\n",
    "    .layout(size=(9, .5), algo=None)\n",
    ")"
   ]
  },
  {
   "cell_type": "code",
   "execution_count": null,
   "id": "54fc98b4-dc4c-45e1-a2a7-840a724fc746",
   "metadata": {
    "tags": [
     "hide-input"
    ]
   },
   "outputs": [],
   "source": [
    "n = 6\n",
    "rgb = [f\"C{i}\" for i in range(n)]\n",
    "(\n",
    "    color_plot\n",
    "    .facet([\"color\"] * n + [\"edgecolor\"] * n + [\"fillcolor\"] * n)\n",
    "    .add(\n",
    "        color_mark,\n",
    "        x=np.tile(np.arange(n), 3),\n",
    "        y=np.zeros(n * 3),\n",
    "        color=rgb + [\".8\"] * n + rgb,\n",
    "        edgecolor=rgb + rgb + [\".3\"] * n,\n",
    "        legend=False,\n",
    "    )\n",
    "    .plot()\n",
    ")"
   ]
  },
  {
   "cell_type": "raw",
   "id": "0dc26a01-6290-44f4-9815-5cea531207e2",
   "metadata": {},
   "source": [
    "When the color property is mapped, the default palette depends on the type of scale. Nominal scales use discrete, unordered hues, while continuous scales (including temporal ones) use a sequential gradient:"
   ]
  },
  {
   "cell_type": "code",
   "execution_count": null,
   "id": "6927a0d3-687b-4ca0-a425-0376b39f1b1f",
   "metadata": {
    "tags": [
     "hide-input"
    ]
   },
   "outputs": [],
   "source": [
    "n = 9\n",
    "rgb = color_palette(\"deep\", n) + color_palette(\"ch:\", n)\n",
    "(\n",
    "    color_plot\n",
    "    .facet([\"nominal\"] * n + [\"continuous\"] * n)\n",
    "    .add(\n",
    "        color_mark,\n",
    "        x=list(range(n)) * 2,\n",
    "        y=[0] * n * 2,\n",
    "        color=rgb,\n",
    "        legend=False,\n",
    "    )\n",
    "    .plot()\n",
    ")"
   ]
  },
  {
   "cell_type": "raw",
   "id": "e79d0da7-a53e-468c-9952-726eeae810d1",
   "metadata": {},
   "source": [
    "Color scales are parameterized by the name of a palette, such as `'viridis'`, `'rocket'`, or `'deep'`. Some palette names can include parameters, including simple gradients (e.g. `'dark:blue'`) or the cubehelix system (e.g. `'ch:start=.2,rot=-.4``). See the :doc:`color palette tutorial </tutorial/color_palettes>` for guidance on making an appropriate selection.\n",
    "\n",
    "Continuous scales can also be parameterized by a tuple of colors that the scale should interpolate between. When using a nominal scale, it is possible to provide either the name of the palette (which will be discretely-sampled if necessary), a list of individual color values, or a dictionary directly mapping data values to colors.\n",
    "\n",
    "Individual colors may be specified `in a wide range of formats <https://matplotlib.org/stable/tutorials/colors/colors.html>`_. These include indexed references to the current color cycle (`'C0'`), single-letter shorthands (`'b'`), grayscale values (`'.4'`), RGB hex codes (`'#4c72b0'`), X11 color names (`'seagreen'`), and XKCD color survey names (`'purpleish'`):"
   ]
  },
  {
   "cell_type": "code",
   "execution_count": null,
   "id": "ce7300dc-0ed2-4eb3-bd6f-2e42280f5e54",
   "metadata": {
    "tags": [
     "hide-input"
    ]
   },
   "outputs": [],
   "source": [
    "color_dict = {\n",
    "    \"cycle\": [\"C0\", \"C1\", \"C2\"],\n",
    "    \"short\": [\"r\", \"y\", \"b\"],\n",
    "    \"gray\": [\".3\", \".7\", \".5\"],\n",
    "    \"hex\": [\"#825f87\", \"#05696b\", \"#de7e5d\"],\n",
    "    \"X11\": [\"seagreen\", \"sienna\", \"darkblue\"],\n",
    "    \"XKCD\": [\"xkcd:gold\", \"xkcd:steel\", \"xkcd:plum\"],\n",
    "}\n",
    "groups = [k for k in color_dict for _ in range(3)]\n",
    "colors = [c for pal in color_dict.values() for c in pal]\n",
    "(\n",
    "    so.Plot(\n",
    "        x=[0] * len(colors),\n",
    "        y=[f\"'{c}'\" for c in colors],\n",
    "        color=colors,\n",
    "    )\n",
    "    .theme({\n",
    "        **axes_style(\"ticks\"),\n",
    "        **{\n",
    "            f\"axes.spines.{side}\": False\n",
    "            for side in [\"left\", \"right\", \"bottom\", \"top\"]\n",
    "        },\n",
    "        \"axes.ymargin\": .2,\n",
    "        \"axes.titlesize\": 14,\n",
    "        \n",
    "    })\n",
    "    .facet(groups)\n",
    "    .layout(size=(8, 1.15), algo=\"constrained\")\n",
    "    .scale(x=so.Continuous().tick(count=0))\n",
    "    .add(color_mark)\n",
    "    .limit(x=(-.2, .5))\n",
    "    # .label(title=\"{}      \".format)\n",
    "    .label(title=\"\")\n",
    "    .scale(color=None)\n",
    "    .share(y=False)\n",
    "    .plot()\n",
    ")"
   ]
  },
  {
   "cell_type": "raw",
   "id": "4ea6ac35-2a73-4dec-8b9b-bf15ba67f01b",
   "metadata": {},
   "source": [
    ".. _alpha_property:\n",
    "\n",
    "alpha, fillalpha, edgealpha\n",
    "~~~~~~~~~~~~~~~~~~~~~~~~~~~\n",
    "\n",
    "The `alpha` property determines the mark's opacity. Lowering the alpha can be helpful for revealing overlap:"
   ]
  },
  {
   "cell_type": "code",
   "execution_count": null,
   "id": "e73839d2-27c4-42b8-8587-9f6e99c8a464",
   "metadata": {
    "tags": [
     "hide-input"
    ]
   },
   "outputs": [],
   "source": [
    "rng = np.random.default_rng(3)\n",
    "n_samp = 300\n",
    "x = 1 - rng.exponential(size=n_samp)\n",
    "y = rng.uniform(-1, 1, size=n_samp)\n",
    "keep = np.sqrt(x ** 2 + y ** 2) < 1\n",
    "x, y = x[keep], y[keep]\n",
    "n = keep.sum()\n",
    "alpha_vals = np.linspace(.1, .9, 9).round(1)\n",
    "xs = np.concatenate([x for _ in alpha_vals])\n",
    "ys = np.concatenate([y for _ in alpha_vals])\n",
    "alphas = np.repeat(alpha_vals, n)\n",
    "(\n",
    "    so.Plot(x=xs, y=ys, alpha=alphas)\n",
    "    .facet(alphas)\n",
    "    .add(so.Dot(pointsize=3))\n",
    "    .scale(\n",
    "        alpha=None,\n",
    "        x=so.Continuous().tick(count=0),\n",
    "        y=so.Continuous().tick(count=0)\n",
    "    )\n",
    "    .layout(size=(9, 1), algo=None)\n",
    "    .theme({\n",
    "        **axes_style(\"white\"),\n",
    "        **{\n",
    "            f\"axes.spines.{side}\": False\n",
    "            for side in [\"left\", \"right\", \"bottom\", \"top\"]\n",
    "        },\n",
    "    })\n",
    ")"
   ]
  },
  {
   "cell_type": "raw",
   "id": "a551732e-e8f5-45f0-9345-7ef45248d9d7",
   "metadata": {},
   "source": [
    "TK importance gradient, TK lower saturation is nice."
   ]
  },
  {
   "cell_type": "raw",
   "id": "77d168e4-0539-409f-8542-750d3981e22b",
   "metadata": {},
   "source": [
    "Style properties\n",
    "----------------"
   ]
  },
  {
   "cell_type": "raw",
   "id": "95e342fa-1086-4e63-81ae-dce1c628df9b",
   "metadata": {},
   "source": [
    ".. _fill_property:\n",
    "\n",
    "fill\n",
    "~~~~\n"
   ]
  },
  {
   "cell_type": "raw",
   "id": "119741b0-9eca-45a1-983e-35effc49c7fa",
   "metadata": {},
   "source": [
    ".. _marker_property:\n",
    "\n",
    "marker\n",
    "~~~~~~\n",
    "\n",
    "The `marker` property is relevant for dot marks and some line marks. The API for specifying markers is very flexible, as detailed in the matplotlib API docs: :mod:`matplotlib.markers`."
   ]
  },
  {
   "cell_type": "code",
   "execution_count": null,
   "id": "0ba9c5aa-3d9c-47c7-8aee-5851e1f3c4dd",
   "metadata": {
    "tags": [
     "hide"
    ]
   },
   "outputs": [],
   "source": [
    "marker_plot = (\n",
    "    so.Plot()\n",
    "    .scale(marker=None, y=so.Continuous().tick(count=0))\n",
    "    .layout(size=(10, .5), algo=None)\n",
    "    .theme({\n",
    "        **axes_style(\"ticks\"),\n",
    "        \"axes.spines.left\": False,\n",
    "        \"axes.spines.top\": False,\n",
    "        \"axes.spines.right\": False,\n",
    "        \"xtick.labelsize\":12,\n",
    "        \"axes.xmargin\": .02,\n",
    "    })\n",
    "\n",
    ")\n",
    "marker_mark = so.Dot(pointsize=15, color=\".15\", stroke=1.5)"
   ]
  },
  {
   "cell_type": "raw",
   "id": "3c07a874-18a1-485a-8d65-70ea3f246340",
   "metadata": {},
   "source": [
    "Markers can be specified using a number of simple string codes:"
   ]
  },
  {
   "cell_type": "code",
   "execution_count": null,
   "id": "6a764efd-df55-412b-8a01-8eba6f897893",
   "metadata": {
    "tags": [
     "hide-input"
    ]
   },
   "outputs": [],
   "source": [
    "marker_codes = [\n",
    "    \"o\", \"^\", \"v\", \"<\", \">\",\"s\", \"D\", \"d\", \"p\", \"h\", \"H\", \"8\",\n",
    "    \"X\", \"*\", \".\", \"P\", \"x\", \"+\", \"1\", \"2\", \"3\", \"4\", \"|\", \"_\",\n",
    "]\n",
    "x, y = [f\"'{m}'\" for m in marker_codes], [0] * len(marker_codes)\n",
    "marker_objs = [mpl.markers.MarkerStyle(m) for m in marker_codes]\n",
    "marker_plot.add(marker_mark, marker=marker_objs, x=x, y=y).plot()"
   ]
  },
  {
   "cell_type": "raw",
   "id": "1c614f08-3aa4-450d-bfe2-3295c29155d5",
   "metadata": {},
   "source": [
    "They can also be programatically generated using a `(num_sides, fill_style, angle)` tuple:"
   ]
  },
  {
   "cell_type": "code",
   "execution_count": null,
   "id": "c9c1efe7-33e1-4add-9c4e-567d8dfbb821",
   "metadata": {
    "tags": [
     "hide-input"
    ]
   },
   "outputs": [],
   "source": [
    "marker_codes = [\n",
    "    (4, 0, 0), (4, 0, 45), (8, 0, 0),\n",
    "    (4, 1, 0), (4, 1, 45), (8, 1, 0),\n",
    "    (4, 2, 0), (4, 2, 45), (8, 2, 0),\n",
    "]\n",
    "x, y = [f\"{m}\" for m in marker_codes], [0] * len(marker_codes)\n",
    "marker_objs = [mpl.markers.MarkerStyle(m) for m in marker_codes]\n",
    "marker_plot.add(marker_mark, marker=marker_objs, x=x, y=y).plot()"
   ]
  },
  {
   "cell_type": "raw",
   "id": "dc518508-cb08-4508-a7f3-5762841da6fc",
   "metadata": {},
   "source": [
    "See the matplotlib docs for additional formats, including mathtex character codes (`'$...$'`) and arrays of vertices.\n",
    "\n",
    "A marker property is always mapped with a nominal scale; there is no inherent ordering to the different shapes. If no scale is provided, the plot will programmatically generate a suitably large set of unique markers:"
   ]
  },
  {
   "cell_type": "code",
   "execution_count": null,
   "id": "3466dc10-07a5-470f-adac-c3c05326945d",
   "metadata": {
    "tags": [
     "hide-input"
    ]
   },
   "outputs": [],
   "source": [
    "from seaborn._core.properties import Marker\n",
    "n = 14\n",
    "marker_objs = Marker()._default_values(n)\n",
    "x, y = list(map(str, range(n))), [0] * n\n",
    "marker_plot.add(marker_mark, marker=marker_objs, x=x, y=y).plot()"
   ]
  },
  {
   "cell_type": "raw",
   "id": "30916c65-6d4c-4294-a5e2-58af8b9392f3",
   "metadata": {},
   "source": [
    "While this ensures that the shapes are technically distinct, bear in mind that — in most cases — it will be difficult to tell the markers apart if more than a handful are used in a single plot.\n",
    "\n",
    ".. note::\n",
    "    The default marker scale is subject to change in future releases to improve discriminability."
   ]
  },
  {
   "cell_type": "raw",
   "id": "e8fd29eb-a241-4447-8bb6-a3353c3687bf",
   "metadata": {},
   "source": [
    ".. _linestyle_property:\n",
    "\n",
    "linestyle, edgestyle\n",
    "~~~~~~~~~~~~~~~~~~~~\n"
   ]
  },
  {
   "cell_type": "raw",
   "id": "41063f3b-a207-4f03-a606-78e2826be522",
   "metadata": {},
   "source": [
    "Size properties\n",
    "---------------"
   ]
  },
  {
   "cell_type": "raw",
   "id": "7a909d91-9d60-4e95-a855-18b2779f19ce",
   "metadata": {},
   "source": [
    ".. _pointsize_property:\n",
    "\n",
    "pointsize\n",
    "~~~~~~~~~\n"
   ]
  },
  {
   "cell_type": "raw",
   "id": "1408cd7d-64a6-44ce-a394-953737f2994e",
   "metadata": {},
   "source": [
    ".. _stroke_property:\n",
    "\n",
    "stroke\n",
    "~~~~~~\n"
   ]
  },
  {
   "cell_type": "raw",
   "id": "66660d74-0252-4cb1-960a-c2c4823bb0e6",
   "metadata": {},
   "source": [
    ".. _linewidth_property:\n",
    "\n",
    "linewidth\n",
    "~~~~~~~~~\n"
   ]
  },
  {
   "cell_type": "raw",
   "id": "dcbdfcb9-d55e-467a-8514-bdb4cc2bec90",
   "metadata": {},
   "source": [
    ".. _edgewidth_property:\n",
    "\n",
    "edgewidth\n",
    "~~~~~~~~~\n"
   ]
  },
  {
   "cell_type": "raw",
   "id": "77723ffd-2da3-4ece-a97a-3c00e864c743",
   "metadata": {},
   "source": [
    "Other properties\n",
    "----------------"
   ]
  },
  {
   "cell_type": "raw",
   "id": "287bb259-0194-4c8c-8836-5e3eb6d88e79",
   "metadata": {},
   "source": [
    ".. _group_property:\n",
    "\n",
    "group\n",
    "~~~~~\n"
   ]
  },
  {
   "cell_type": "code",
   "execution_count": null,
   "id": "f23c9251-1685-4150-b5c2-ab5b0589d8e6",
   "metadata": {},
   "outputs": [],
   "source": []
  }
 ],
 "metadata": {
  "kernelspec": {
   "display_name": "seaborn-py39-latest",
   "language": "python",
   "name": "seaborn-py39-latest"
  },
  "language_info": {
   "codemirror_mode": {
    "name": "ipython",
    "version": 3
   },
   "file_extension": ".py",
   "mimetype": "text/x-python",
   "name": "python",
   "nbconvert_exporter": "python",
   "pygments_lexer": "ipython3",
   "version": "3.9.13"
  }
 },
 "nbformat": 4,
 "nbformat_minor": 5
}
