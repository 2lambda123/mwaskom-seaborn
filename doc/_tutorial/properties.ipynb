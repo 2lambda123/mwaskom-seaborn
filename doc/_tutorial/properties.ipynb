{
 "cells": [
  {
   "cell_type": "raw",
   "id": "6cb222bb-4781-48b6-9675-c0ba195b5efb",
   "metadata": {},
   "source": [
    ".. _properties_tutorial:\n",
    "\n",
    "Properties of Mark objects\n",
    "==========================="
   ]
  },
  {
   "cell_type": "code",
   "execution_count": 1,
   "id": "ae9d52dc-55ad-4804-a533-f2b724d0b85b",
   "metadata": {
    "tags": [
     "hide"
    ]
   },
   "outputs": [],
   "source": [
    "import matplotlib as mpl\n",
    "import seaborn.objects as so\n",
    "from seaborn import axes_style"
   ]
  },
  {
   "cell_type": "raw",
   "id": "dd828c60-3895-46e4-a2f4-782a6e6cd9a6",
   "metadata": {},
   "source": [
    "Coordinate properties\n",
    "---------------------"
   ]
  },
  {
   "cell_type": "raw",
   "id": "b9da7f32-f9fd-49f2-babc-39fa755f5a7a",
   "metadata": {},
   "source": [
    ".. _x_property:\n",
    "\n",
    "x\n",
    "~\n"
   ]
  },
  {
   "cell_type": "raw",
   "id": "224bb674-931a-481e-9ccd-0f82d164b607",
   "metadata": {},
   "source": [
    ".. _y_property:\n",
    "\n",
    "y\n",
    "~\n"
   ]
  },
  {
   "cell_type": "raw",
   "id": "066e0dac-8cf6-4344-8007-ea9f6e6a4987",
   "metadata": {},
   "source": [
    ".. _xmin_property:\n",
    "\n",
    "xmin\n",
    "~~~~\n"
   ]
  },
  {
   "cell_type": "raw",
   "id": "8ff4d41e-3353-4c05-8116-69ab696768e1",
   "metadata": {},
   "source": [
    ".. _xmax_property:\n",
    "\n",
    "xmax\n",
    "~~~~\n"
   ]
  },
  {
   "cell_type": "raw",
   "id": "a1f025e7-7c90-43b8-9af9-e2d5f12afb27",
   "metadata": {},
   "source": [
    ".. _ymin_property:\n",
    "\n",
    "ymin\n",
    "~~~~\n"
   ]
  },
  {
   "cell_type": "raw",
   "id": "933e1094-60a9-42cd-a20d-31c483834da7",
   "metadata": {},
   "source": [
    ".. _ymax_property:\n",
    "\n",
    "ymax\n",
    "~~~~\n"
   ]
  },
  {
   "cell_type": "raw",
   "id": "8279d74f-0cd0-4ba8-80ed-c6051541d956",
   "metadata": {},
   "source": [
    "Color properties\n",
    "----------------"
   ]
  },
  {
   "cell_type": "raw",
   "id": "fca25527-6bbe-42d6-beea-a996a46d9761",
   "metadata": {},
   "source": [
    ".. _color_property:\n",
    "\n",
    "color\n",
    "~~~~~\n"
   ]
  },
  {
   "cell_type": "raw",
   "id": "4ea6ac35-2a73-4dec-8b9b-bf15ba67f01b",
   "metadata": {},
   "source": [
    ".. _alpha_property:\n",
    "\n",
    "alpha\n",
    "~~~~~\n"
   ]
  },
  {
   "cell_type": "raw",
   "id": "33865015-4bec-408c-b800-652ba3ecadc8",
   "metadata": {},
   "source": [
    ".. _fillcolor_property:\n",
    "\n",
    "fillcolor\n",
    "~~~~~~~~~\n"
   ]
  },
  {
   "cell_type": "raw",
   "id": "5975991e-5b5c-40a7-8d92-6a6bc972bca0",
   "metadata": {},
   "source": [
    ".. _fillalpha_property:\n",
    "\n",
    "fillalpha\n",
    "~~~~~~~~~\n"
   ]
  },
  {
   "cell_type": "raw",
   "id": "598df6a2-3fe4-4c2f-b0de-b8556a68969e",
   "metadata": {},
   "source": [
    ".. _edgecolor_property:\n",
    "\n",
    "edgecolor\n",
    "~~~~~~~~~\n"
   ]
  },
  {
   "cell_type": "raw",
   "id": "1347c3cf-1803-4d66-a8f6-bf259fd616b3",
   "metadata": {},
   "source": [
    ".. _edgealpha_property:\n",
    "\n",
    "edgealpha\n",
    "~~~~~~~~~\n"
   ]
  },
  {
   "cell_type": "raw",
   "id": "77d168e4-0539-409f-8542-750d3981e22b",
   "metadata": {},
   "source": [
    "Style properties\n",
    "----------------"
   ]
  },
  {
   "cell_type": "raw",
   "id": "95e342fa-1086-4e63-81ae-dce1c628df9b",
   "metadata": {},
   "source": [
    ".. _fill_property:\n",
    "\n",
    "fill\n",
    "~~~~\n"
   ]
  },
  {
   "cell_type": "raw",
   "id": "119741b0-9eca-45a1-983e-35effc49c7fa",
   "metadata": {},
   "source": [
    ".. _marker_property:\n",
    "\n",
    "marker\n",
    "~~~~~~\n",
    "\n",
    "The `marker` property is relevant for dot marks and some line marks. The API for specifying markers is very flexible, as detailed in the matplotlib API docs: :mod:`matplotlib.markers`."
   ]
  },
  {
   "cell_type": "code",
   "execution_count": 138,
   "id": "0ba9c5aa-3d9c-47c7-8aee-5851e1f3c4dd",
   "metadata": {
    "tags": [
     "hide"
    ]
   },
   "outputs": [],
   "source": [
    "marker_plot = (\n",
    "    so.Plot()\n",
    "    .scale(marker=None, y=so.Continuous().tick(count=0))\n",
    "    .layout(size=(9, .3), algo=None)\n",
    "    .theme({\n",
    "        **axes_style(\"ticks\"),\n",
    "        \"axes.spines.left\": False,\n",
    "        \"axes.spines.top\": False,\n",
    "        \"axes.spines.right\": False,\n",
    "        \"xtick.labelsize\":12,\n",
    "        \"axes.xmargin\": .02,\n",
    "    })\n",
    "\n",
    ")\n",
    "marker_mark = so.Dot(pointsize=10, color=\".15\", stroke=1.5)"
   ]
  },
  {
   "cell_type": "raw",
   "id": "d97e9ac5-5878-4336-8493-36c3d877a15d",
   "metadata": {},
   "source": [
    "Markers can be specified using a number of simple string codes:"
   ]
  },
  {
   "cell_type": "code",
   "execution_count": 148,
   "id": "6a764efd-df55-412b-8a01-8eba6f897893",
   "metadata": {
    "tags": [
     "hide-input"
    ]
   },
   "outputs": [
    {
     "data": {
      "image/png": "[encoded data removed]",
      "text/plain": [
       "<seaborn._core.plot.Plotter at 0x148e1c310>"
      ]
     },
     "execution_count": 148,
     "metadata": {
      "image/png": {
       "height": 58.225,
       "width": 585.225
      }
     },
     "output_type": "execute_result"
    }
   ],
   "source": [
    "marker_codes = [\n",
    "    \"o\", \"^\", \"v\", \"<\", \">\",\"s\", \"D\", \"d\", \"p\", \"h\", \"H\", \"8\",\n",
    "    \"X\", \"*\", \".\", \"P\", \"x\", \"+\", \"1\", \"2\", \"3\", \"4\", \"|\", \"_\",\n",
    "]\n",
    "x, y = [f\"'{m}'\" for m in marker_codes], [0] * len(marker_codes)\n",
    "marker_objs = [mpl.markers.MarkerStyle(m) for m in marker_codes]\n",
    "marker_plot.add(marker_mark, marker=marker_objs, x=x, y=y).plot()"
   ]
  },
  {
   "cell_type": "raw",
   "id": "a8f58e7c-41da-41fc-ab44-4d3fd105349b",
   "metadata": {},
   "source": [
    "They can also be programatically generated using a `(num_sides, fill_style, angle)` tuple:"
   ]
  },
  {
   "cell_type": "code",
   "execution_count": 150,
   "id": "c9c1efe7-33e1-4add-9c4e-567d8dfbb821",
   "metadata": {
    "tags": [
     "hide-input"
    ]
   },
   "outputs": [
    {
     "data": {
      "image/png": "[encoded data removed]",
      "text/plain": [
       "<seaborn._core.plot.Plotter at 0x148ffa430>"
      ]
     },
     "execution_count": 150,
     "metadata": {
      "image/png": {
       "height": 58.225,
       "width": 610.3
      }
     },
     "output_type": "execute_result"
    }
   ],
   "source": [
    "marker_codes = [\n",
    "    (4, 0, 0), (4, 0, 45), (8, 0, 0),\n",
    "    (4, 1, 0), (4, 1, 45), (8, 1, 0),\n",
    "    (4, 2, 0), (4, 2, 45), (8, 2, 0),\n",
    "]\n",
    "x, y = [f\"{m}\" for m in marker_codes], [0] * len(marker_codes)\n",
    "marker_objs = [mpl.markers.MarkerStyle(m) for m in marker_codes]\n",
    "marker_plot.add(marker_mark, marker=marker_objs, x=x, y=y).plot()"
   ]
  },
  {
   "cell_type": "raw",
   "id": "821d703d-fa37-4503-b952-f181d37365d2",
   "metadata": {},
   "source": [
    "See the matplotlib docs for additional formats, including mathtex character codes (`'$...$'`) and arrays of vertices.\n",
    "\n",
    "A marker property is always mapped with a nominal scale; there is no inherent ordering to the different shapes. If no scale is provided, the plot will programmatically generate a suitably large set of unique markers:"
   ]
  },
  {
   "cell_type": "code",
   "execution_count": 152,
   "id": "3466dc10-07a5-470f-adac-c3c05326945d",
   "metadata": {
    "tags": [
     "hide-input"
    ]
   },
   "outputs": [
    {
     "data": {
      "image/png": "[encoded data removed]",
      "text/plain": [
       "<seaborn._core.plot.Plotter at 0x148fa7fd0>"
      ]
     },
     "execution_count": 152,
     "metadata": {
      "image/png": {
       "height": 58.225,
       "width": 585.225
      }
     },
     "output_type": "execute_result"
    }
   ],
   "source": [
    "from seaborn._core.properties import Marker\n",
    "n = 14\n",
    "marker_objs = Marker()._default_values(n)\n",
    "x, y = list(map(str, range(n))), [0] * n\n",
    "marker_plot.add(marker_mark, marker=marker_objs, x=x, y=y).plot()"
   ]
  },
  {
   "cell_type": "raw",
   "id": "30916c65-6d4c-4294-a5e2-58af8b9392f3",
   "metadata": {},
   "source": [
    "While this ensures that the shapes are technically distinct, bear in mind that — in most cases — it will be difficult to tell the markers apart if more than a handful are used.\n",
    "\n",
    ".. note::\n",
    "    The default marker scale is subject to change in future releases to improve discriminability."
   ]
  },
  {
   "cell_type": "raw",
   "id": "e8fd29eb-a241-4447-8bb6-a3353c3687bf",
   "metadata": {},
   "source": [
    ".. _linestyle_property:\n",
    "\n",
    "linestyle\n",
    "~~~~~~~~~"
   ]
  },
  {
   "cell_type": "raw",
   "id": "33c3d5fa-b43e-4137-8a8d-289eeb6d0053",
   "metadata": {},
   "source": [
    ".. _edgestyle_property:\n",
    "\n",
    "edgestyle\n",
    "~~~~~~~~~\n"
   ]
  },
  {
   "cell_type": "raw",
   "id": "41063f3b-a207-4f03-a606-78e2826be522",
   "metadata": {},
   "source": [
    "Size properties\n",
    "---------------"
   ]
  },
  {
   "cell_type": "raw",
   "id": "7a909d91-9d60-4e95-a855-18b2779f19ce",
   "metadata": {},
   "source": [
    ".. _pointsize_property:\n",
    "\n",
    "pointsize\n",
    "~~~~~~~~~\n"
   ]
  },
  {
   "cell_type": "raw",
   "id": "1408cd7d-64a6-44ce-a394-953737f2994e",
   "metadata": {},
   "source": [
    ".. _stroke_property:\n",
    "\n",
    "stroke\n",
    "~~~~~~\n"
   ]
  },
  {
   "cell_type": "raw",
   "id": "66660d74-0252-4cb1-960a-c2c4823bb0e6",
   "metadata": {},
   "source": [
    ".. _linewidth_property:\n",
    "\n",
    "linewidth\n",
    "~~~~~~~~~\n"
   ]
  },
  {
   "cell_type": "raw",
   "id": "dcbdfcb9-d55e-467a-8514-bdb4cc2bec90",
   "metadata": {},
   "source": [
    ".. _edgewidth_property:\n",
    "\n",
    "edgewidth\n",
    "~~~~~~~~~\n"
   ]
  },
  {
   "cell_type": "raw",
   "id": "77723ffd-2da3-4ece-a97a-3c00e864c743",
   "metadata": {},
   "source": [
    "Other properties\n",
    "----------------"
   ]
  },
  {
   "cell_type": "raw",
   "id": "287bb259-0194-4c8c-8836-5e3eb6d88e79",
   "metadata": {},
   "source": [
    ".. _group_property:\n",
    "\n",
    "group\n",
    "~~~~~\n"
   ]
  },
  {
   "cell_type": "code",
   "execution_count": null,
   "id": "f23c9251-1685-4150-b5c2-ab5b0589d8e6",
   "metadata": {},
   "outputs": [],
   "source": []
  }
 ],
 "metadata": {
  "kernelspec": {
   "display_name": "seaborn-py39-latest",
   "language": "python",
   "name": "seaborn-py39-latest"
  },
  "language_info": {
   "codemirror_mode": {
    "name": "ipython",
    "version": 3
   },
   "file_extension": ".py",
   "mimetype": "text/x-python",
   "name": "python",
   "nbconvert_exporter": "python",
   "pygments_lexer": "ipython3",
   "version": "3.9.13"
  }
 },
 "nbformat": 4,
 "nbformat_minor": 5
}
