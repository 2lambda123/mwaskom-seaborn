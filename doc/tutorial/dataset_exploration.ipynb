{
 "metadata": {
  "name": "",
  "signature": "sha256:e96f8c784a83322e03938f8e495dd194b7a105f65f5f6ae72a8f26a7e0704d3f"
 },
 "nbformat": 3,
 "nbformat_minor": 0,
 "worksheets": [
  {
   "cells": [
    {
     "cell_type": "raw",
     "metadata": {},
     "source": [
      ".. _dataset_exploration:\n",
      "\n",
      ".. currentmodule:: seaborn"
     ]
    },
    {
     "cell_type": "heading",
     "level": 1,
     "metadata": {},
     "source": [
      "Visual dataset exploration"
     ]
    },
    {
     "cell_type": "code",
     "collapsed": false,
     "input": [
      "%matplotlib inline"
     ],
     "language": "python",
     "metadata": {},
     "outputs": [],
     "prompt_number": null
    },
    {
     "cell_type": "code",
     "collapsed": false,
     "input": [
      "import pandas as pd\n",
      "import seaborn as sns\n",
      "import matplotlib.pyplot as plt"
     ],
     "language": "python",
     "metadata": {},
     "outputs": [],
     "prompt_number": null
    },
    {
     "cell_type": "code",
     "collapsed": false,
     "input": [
      "iris = sns.load_dataset(\"iris\")\n",
      "flights = sns.load_dataset(\"flights\")\n",
      "networks = sns.load_dataset(\"brain_networks\", index_col=0, header=[0, 1, 2])"
     ],
     "language": "python",
     "metadata": {},
     "outputs": [],
     "prompt_number": null
    },
    {
     "cell_type": "raw",
     "metadata": {},
     "source": [
      ".. _heatmap:\n",
      "\n",
      "Visualizing matrices with :func:`heatmap`\n",
      "-----------------------------------------\n",
      "\n",
      "Often the easiest thing to do to visualize a reasonably large table of data is to encode the value in each cell with a color and plot a heatmap. This can be accomplished with the :func:`heatmap` function. Note that unlike many other seaborn functions, :func:`heatmap` expects the input data to be a table of values with one variable in the rows and one variable in the columns. Your dataset may be in tidy format, as with the ``flights`` example."
     ]
    },
    {
     "cell_type": "code",
     "collapsed": false,
     "input": [
      "flights.head()"
     ],
     "language": "python",
     "metadata": {},
     "outputs": [],
     "prompt_number": null
    },
    {
     "cell_type": "raw",
     "metadata": {},
     "source": [
      "Fortunately, it's easy to pivot a dataframe out into rectangular format. Note that this sorts the index by default, so if your index has an ordering that doesn't correspond to its alphabetical order, you may need to reorder things after the pivot operation. It's also possible to collapse over a third variable (using an aggregation like a mean or sum) with the ``pivot_table`` function."
     ]
    },
    {
     "cell_type": "code",
     "collapsed": false,
     "input": [
      "flights_rect = flights.pivot(\"month\", \"year\", \"passengers\")\n",
      "flights_rect = flights_rect.ix[flights.month.iloc[:12]]"
     ],
     "language": "python",
     "metadata": {},
     "outputs": [],
     "prompt_number": null
    },
    {
     "cell_type": "code",
     "collapsed": false,
     "input": [
      "flights_rect.head()"
     ],
     "language": "python",
     "metadata": {},
     "outputs": [],
     "prompt_number": null
    },
    {
     "cell_type": "raw",
     "metadata": {},
     "source": [
      "Data in this format can be passed to :func:`heatmap` to produce an easily-interpretable visualization."
     ]
    },
    {
     "cell_type": "code",
     "collapsed": false,
     "input": [
      "sns.heatmap(flights_rect);"
     ],
     "language": "python",
     "metadata": {},
     "outputs": [],
     "prompt_number": null
    },
    {
     "cell_type": "raw",
     "metadata": {},
     "source": [
      "If you do particularly care about the precise numeric values, you can annotate each cell."
     ]
    },
    {
     "cell_type": "code",
     "collapsed": false,
     "input": [
      "sns.heatmap(flights_rect, annot=True, fmt=\"d\");"
     ],
     "language": "python",
     "metadata": {},
     "outputs": [],
     "prompt_number": null
    },
    {
     "cell_type": "raw",
     "metadata": {},
     "source": [
      "Because the color is an encoding of the data, it's very important to use an appropriate colormap. (See the :link:`palette tutorial <palette_tutorial>` for more information about different kinds of color palettes and how to choose one that is appropriate for your data). :func:`heatmap` tries to choose good defaults for your data based off some heuristics about it. For example, if your dataset spans 0, it is assumed that a diverging colormap is more appropriate."
     ]
    },
    {
     "cell_type": "code",
     "collapsed": false,
     "input": [
      "network_corr = networks.iloc[:, :12].corr()\n",
      "sns.heatmap(network_corr);"
     ],
     "language": "python",
     "metadata": {},
     "outputs": [],
     "prompt_number": null
    },
    {
     "cell_type": "raw",
     "metadata": {},
     "source": [
      "Note that this might not always be the case! For example, you might be plotting temperature over time in several cities, for which 0 isn't really a meaningful midpoint value. A sequential colormap would be better in that case.\n",
      "\n",
      "When the data is inferred to be diverging, setting the anchor points preserves symmetry around the midpoint (the defaults depend on the extreme values or values near the midpoints if ``robust`` is ``True``)."
     ]
    },
    {
     "cell_type": "code",
     "collapsed": false,
     "input": [
      "sns.heatmap(network_corr, vmax=.8, square=True);"
     ],
     "language": "python",
     "metadata": {},
     "outputs": [],
     "prompt_number": null
    },
    {
     "cell_type": "raw",
     "metadata": {},
     "source": [
      "There are other uses for diverging colormaps where the midpoint is not 0. For example, you might want to be plotting change \n",
      "relative to a specific comparison value. To set the midpoint, pass a value to ``center``, which will imply that the colormap should be diverging."
     ]
    },
    {
     "cell_type": "code",
     "collapsed": false,
     "input": [
      "sns.heatmap(flights_rect, center=flights_rect.loc[\"January\", 1955]);"
     ],
     "language": "python",
     "metadata": {},
     "outputs": [],
     "prompt_number": null
    },
    {
     "cell_type": "raw",
     "metadata": {},
     "source": [
      ":func:`heatmap` is an Axes-level function, so you can use it in the context of a more complex figure. Plotting the colorbar is optional, and it can also be drawn in a specific existing Axes."
     ]
    },
    {
     "cell_type": "code",
     "collapsed": false,
     "input": [
      "f = plt.figure(figsize=(7, 9))\n",
      "gs = plt.GridSpec(15, 1)\n",
      "hist_ax = f.add_subplot(gs[:5])\n",
      "\n",
      "yearly_flights = flights_rect.sum(axis=0)\n",
      "hist_ax.bar(range(12), yearly_flights, 1, ec=\"w\", lw=2, color=\".3\")\n",
      "hist_ax.set(xticks=[], ylabel=\"flights\")\n",
      "\n",
      "map_ax = f.add_subplot(gs[5:-2])\n",
      "bar_ax = f.add_subplot(gs[-1])\n",
      "sns.heatmap(flights_rect, cmap=\"BuGn\", ax=map_ax,\n",
      "            cbar_ax=bar_ax, cbar_kws={\"orientation\": \"horizontal\"})\n",
      "bar_ax.set(xlabel=\"flights\");"
     ],
     "language": "python",
     "metadata": {},
     "outputs": [],
     "prompt_number": null
    },
    {
     "cell_type": "code",
     "collapsed": false,
     "input": [],
     "language": "python",
     "metadata": {},
     "outputs": [],
     "prompt_number": null
    }
   ],
   "metadata": {}
  }
 ]
}