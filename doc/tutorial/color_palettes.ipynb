{
 "cells": [
  {
   "cell_type": "raw",
   "metadata": {
    "raw_mimetype": "text/restructuredtext"
   },
   "source": [
    ".. _palette_tutorial:\n",
    "\n",
    ".. currentmodule:: seaborn"
   ]
  },
  {
   "cell_type": "raw",
   "metadata": {},
   "source": [
    "Choosing color palettes\n",
    "=======================\n",
    "\n",
    ".. raw:: html\n",
    "\n",
    "   <div class=col-md-9>\n",
    "\n",
    "Seaborn tries to make it easy to select and use colors that are well-suited to your data and your visualization goals. This chapter discusses both the general principles that should guide your choices and the tools in seaborn that help you quickly find the best solution for a given application."
   ]
  },
  {
   "cell_type": "code",
   "execution_count": null,
   "metadata": {
    "tags": [
     "hide"
    ]
   },
   "outputs": [],
   "source": [
    "import numpy as np\n",
    "import seaborn as sns\n",
    "import matplotlib.pyplot as plt\n",
    "sns.set()"
   ]
  },
  {
   "cell_type": "code",
   "execution_count": null,
   "metadata": {
    "tags": [
     "hide"
    ]
   },
   "outputs": [],
   "source": [
    "%matplotlib inline\n",
    "np.random.seed(sum(map(ord, \"palettes\")))"
   ]
  },
  {
   "cell_type": "code",
   "execution_count": null,
   "metadata": {
    "tags": [
     "hide"
    ]
   },
   "outputs": [],
   "source": [
    "# Add colormap display methods to matplotlib colormaps.\n",
    "# These are forthcoming in matplotlib 3.4, but, the matplotlib display\n",
    "# method includes the colormap name, which is redundant.\n",
    "def _repr_png_(self):\n",
    "    \"\"\"Generate a PNG representation of the Colormap.\"\"\"\n",
    "    import io\n",
    "    from PIL import Image\n",
    "    import numpy as np\n",
    "    IMAGE_SIZE = (350, 45)\n",
    "    X = np.tile(np.linspace(0, 1, IMAGE_SIZE[0]), (IMAGE_SIZE[1], 1))\n",
    "    pixels = self(X, bytes=True)\n",
    "    png_bytes = io.BytesIO()\n",
    "    Image.fromarray(pixels).save(png_bytes, format='png')\n",
    "    return png_bytes.getvalue()\n",
    "    \n",
    "def _repr_html_(self):\n",
    "    \"\"\"Generate an HTML representation of the Colormap.\"\"\"\n",
    "    import base64\n",
    "    png_bytes = self._repr_png_()\n",
    "    png_base64 = base64.b64encode(png_bytes).decode('ascii')\n",
    "    return ('<img ' +\n",
    "            'alt=\"' + self.name + ' color map\" ' +\n",
    "            'title=\"' + self.name + '\"' +\n",
    "            'src=\"data:image/png;base64,' + png_base64 + '\">')\n",
    "    \n",
    "import matplotlib as mpl\n",
    "mpl.colors.Colormap._repr_png_ = _repr_png_\n",
    "mpl.colors.Colormap._repr_html_ = _repr_html_"
   ]
  },
  {
   "cell_type": "raw",
   "metadata": {},
   "source": [
    "General principles for using color in plots\n",
    "-------------------------------------------\n",
    "\n",
    "Vary hue to distinguish categories\n",
    "~~~~~~~~~~~~~~~~~~~~~~~~~~~~~~~~~~\n",
    "\n",
    "When you want to represent multiple categories in a plot, you will usually want to vary the color of the elements. Consider this simple example: how long would it take you to count the number of triangular points in the following scatterplot?"
   ]
  },
  {
   "cell_type": "code",
   "execution_count": null,
   "metadata": {
    "tags": [
     "hide-input"
    ]
   },
   "outputs": [],
   "source": [
    "n = 45\n",
    "x = np.random.uniform(0, 1, n)\n",
    "y = np.random.uniform(0, 1, n)\n",
    "a = np.concatenate([np.zeros(n - 5), np.ones(5)])\n",
    "sns.relplot(x=x, y=y, style=a, size=a, legend=False,\n",
    "            height=3.5, markers=[\"o\", (3, 1, 1)], sizes=[70, 140])"
   ]
  },
  {
   "cell_type": "raw",
   "metadata": {},
   "source": [
    "Now, what if the triangles had been in plotted in a different color?"
   ]
  },
  {
   "cell_type": "code",
   "execution_count": null,
   "metadata": {
    "tags": [
     "hide-input"
    ]
   },
   "outputs": [],
   "source": [
    "sns.relplot(x=x, y=y, style=a, size=a, hue=a, legend=False,\n",
    "            height=3.5, markers=[\"o\", (3, 1, 1)], sizes=[70, 140])"
   ]
  },
  {
   "cell_type": "raw",
   "metadata": {},
   "source": [
    "In the second figure, the orange triangles \"pop out\", making it easy to distinguish them from the circles. This example demonstrates that our visual system prioritizes color differences when we look at a plot.\n",
    "\n",
    "Color has different components, and the blue and orange colors differ mostly in terms of their hue. Hue is useful for representing categories, because most people can distinguish a moderate number of hues relatively easily, and points that have different hues but similar brightness or intensity seem equally important. It also makes plots easier to talk about. Consider this example:"
   ]
  },
  {
   "cell_type": "code",
   "execution_count": null,
   "metadata": {
    "tags": [
     "hide-input"
    ]
   },
   "outputs": [],
   "source": [
    "b = np.tile(np.arange(5), n // 5)\n",
    "sns.relplot(x=x, y=y, hue=b, legend=False, palette=\"deep\", s=70, height=3.5)"
   ]
  },
  {
   "cell_type": "raw",
   "metadata": {},
   "source": [
    "Most people will be able to quickly ascertain that there are five distinct categories here and, if asked to characterize the \"blue\" points, would be able to do so. In contrast, what if we used only blue points, but varied their brightness and intensity?"
   ]
  },
  {
   "cell_type": "code",
   "execution_count": null,
   "metadata": {
    "tags": [
     "hide-input"
    ]
   },
   "outputs": [],
   "source": [
    "b = np.tile(np.arange(5), n // 5)\n",
    "sns.relplot(x=x, y=y, hue=b, legend=False, palette=\"blend:.75,C0\", s=70, height=3.5)"
   ]
  },
  {
   "cell_type": "raw",
   "metadata": {},
   "source": [
    "A viewer would be harder pressed to say how many unique categories are in this plot. And how would they talk about a particular category? \"The fairly-but-not-too-blue points?\" Finally, the gray dots seem to fade into the background, de-emphasizing them relative to the more intense blue ones. If the categories are equally important, this is a poor representation.\n",
    "\n",
    "So as a general rule, use hue variation to represent categories. With that said, here are few notes of caution. If you have more than a handful of colors in your plot, it can become difficult to keep in mind what each one means, unless there are pre-existing associations between the categories and the colors used to represent them. This makes your plot harder to interpret: rather than focusing on the data, a viewer will have to continually refer to the legend to make sense of what is shown. So you should strive not to make plots that are too complex. And it is important to be mindful that not everyone sees colors the same way. Varying both shape (or some other attribute) and color can help people with anomalous color vision understand your plots, and it can keep them (somewhat) interpretable if they are printed to black-and-white."
   ]
  },
  {
   "cell_type": "raw",
   "metadata": {},
   "source": [
    "Vary luminance to represent numbers\n",
    "~~~~~~~~~~~~~~~~~~~~~~~~~~~~~~~~~~~\n",
    "\n",
    "Hue variations are not well suited to representing numeric data. Consider this example, where we need colors to represent the counts in a bivariate histogram. We use a circular colormap, where gradual changes in hue correspond to graudal changes in the number of observation within each bin:"
   ]
  },
  {
   "cell_type": "code",
   "execution_count": null,
   "metadata": {
    "tags": [
     "hide-input"
    ]
   },
   "outputs": [],
   "source": [
    "penguins = sns.load_dataset(\"penguins\")\n",
    "sns.displot(\n",
    "    data=penguins, x=\"bill_length_mm\", y=\"bill_depth_mm\",\n",
    "    height=4, aspect=1.2, binwidth=(3, .75), cmap=\"hls\", cbar=True\n",
    ").set_axis_labels(\"\", \"\")"
   ]
  },
  {
   "cell_type": "raw",
   "metadata": {},
   "source": [
    "Using thie palette, it's quite difficult to see any structure in the data.\n",
    "\n",
    "Instead, we should use a palette that represents the data values with variations in luminance, or brightness:"
   ]
  },
  {
   "cell_type": "code",
   "execution_count": null,
   "metadata": {
    "tags": [
     "hide-input"
    ]
   },
   "outputs": [],
   "source": [
    "penguins = sns.load_dataset(\"penguins\")\n",
    "sns.displot(\n",
    "    data=penguins, x=\"bill_length_mm\", y=\"bill_depth_mm\",\n",
    "    height=4, aspect=1.2, binwidth=(3, .75), cmap=\"rocket_r\", cbar=True\n",
    ").set_axis_labels(\"\", \"\")"
   ]
  },
  {
   "cell_type": "raw",
   "metadata": {},
   "source": [
    "Here, it's much more clear that there are two predominant modes. Varying luminance helps you see structure in data, and changes in luminance are more intuitively processed as changes in importance than are changes in hue. But this is not a grayscale colormap. The colorfulness of the plot makes it more interesting, and the subtle hue variation increases the perceptual distance between two values, making small differencess slightly easier to resolve.\n",
    "\n",
    "These examples show that color palette choices are about more than aesthetics: the colors you choose can reveal patterns in your data if used effectively or hide them if used poorly. There is not one optimal palette, but there are palettes that are better or worse for particular datasets and visualization approaches. And aesthetics do matter: the more people want to look at your figures, the more chances they have to learn something from them."
   ]
  },
  {
   "cell_type": "raw",
   "metadata": {
    "raw_mimetype": "text/restructuredtext"
   },
   "source": [
    "Tools for choosing color palettes\n",
    "---------------------------------\n",
    "\n",
    "The most important function for working with discrete color palettes is :func:`color_palette`. This function provides an interface to most of the possible ways that one can generate color palettes in seaborn. It's used internally by any function that has a ``palette`` argument.\n",
    "\n",
    "The primary argument to :func:`color_palette` is usually a string: either the a name of a specific palette or the name of a family and additional arguments to select a specific member. In the latter case, :func:`color_palette` will delegate to more specific function, such as :func:`cubehelix_palette`. It's also possible to pass a list of colors specified any way that matplotlib accepts (an RGB tuple, a hex code, or a name in the X11 table). The return value is an object that wraps a list of RGB tuples with a few useful methods, such as conversion to hex codes and a rich HTML representation.\n",
    "\n",
    "Calling :func:`color_palette` with no arguments will return the current default color palette that matplotlib (and most seaborn functions) will use if colors are not otherwise specified. This default palette can be set with the corresponding :func:`set_palette` function, which calls :func:`color_palette` internally and accepts the same arguments.\n",
    "\n",
    "To motivate the different options that :func:`color_palette` provides, it will be useful to introduce a classification scheme for color palettes. Broadly, palettes fall into one of three categories:\n",
    "\n",
    "- qualitative palettes, good for representing categorical data\n",
    "- sequential palettes, good for representing numerical data\n",
    "- diverging palettes, good for representing numerical data with a categorical boundary"
   ]
  },
  {
   "cell_type": "raw",
   "metadata": {},
   "source": [
    ".. _qualitative_palettes:\n",
    "\n",
    "Qualitative color palettes\n",
    "--------------------------\n",
    "\n",
    "Qualitative (or categorical) palettes are well-suited for representing categorical data because most of their variation is in the hue component. The default color palette in seaborn is a qualitative palette with ten distinct hues:"
   ]
  },
  {
   "cell_type": "code",
   "execution_count": null,
   "metadata": {},
   "outputs": [],
   "source": [
    "sns.color_palette()"
   ]
  },
  {
   "cell_type": "raw",
   "metadata": {},
   "source": [
    "These colors have the same ordering as the default matplotlib color palette, `\"tab10\"`, but they are a bit less intense. Compare:"
   ]
  },
  {
   "cell_type": "code",
   "execution_count": null,
   "metadata": {},
   "outputs": [],
   "source": [
    "sns.color_palette(\"tab10\")"
   ]
  },
  {
   "cell_type": "raw",
   "metadata": {},
   "source": [
    "Seaborn in fact has six variations of the default palette, called ``deep``, ``muted``, ``pastel``, ``bright``, ``dark``, and ``colorblind``. These span a range of luminance and saturation values:"
   ]
  },
  {
   "cell_type": "code",
   "execution_count": null,
   "metadata": {
    "tags": [
     "hide-input"
    ]
   },
   "outputs": [],
   "source": [
    "f = plt.figure(figsize=(6, 6))\n",
    "\n",
    "ax_locs = dict(\n",
    "    deep=(.4, .4),\n",
    "    bright=(.8, .8),\n",
    "    muted=(.49, .71),\n",
    "    dark=(.8, .2),\n",
    "    pastel=(.2, .8),\n",
    "    colorblind=(.71, .49),\n",
    ")\n",
    "\n",
    "s = .35\n",
    "\n",
    "for pal, (x, y) in ax_locs.items():\n",
    "    ax = f.add_axes([x - s / 2, y - s / 2, s, s])\n",
    "    ax.pie(np.ones(10),\n",
    "           colors=sns.color_palette(pal, 10),\n",
    "           counterclock=False, startangle=180,\n",
    "           wedgeprops=dict(linewidth=1, edgecolor=\"w\"))\n",
    "    f.text(x, y, pal, ha=\"center\", va=\"center\", size=14,\n",
    "           bbox=dict(facecolor=\"white\", alpha=0.85, boxstyle=\"round,pad=0.2\"))\n",
    "\n",
    "f.text(.1, .05, \"Saturation\", size=18, ha=\"left\", va=\"center\",\n",
    "       bbox=dict(facecolor=\"white\", edgecolor=\"w\"))\n",
    "f.text(.05, .1, \"Luminance\", size=18, ha=\"center\", va=\"bottom\", rotation=90,\n",
    "       bbox=dict(facecolor=\"white\", edgecolor=\"w\"))\n",
    "\n",
    "ax = f.add_axes([0, 0, 1, 1])\n",
    "ax.set_axis_off()\n",
    "ax.arrow(.15, .05, .4, 0, width=.002, head_width=.015, color=\".15\")\n",
    "ax.arrow(.05, .15, 0, .4, width=.002, head_width=.015, color=\".15\")\n",
    "ax.set(xlim=(0, 1), ylim=(0, 1))"
   ]
  },
  {
   "cell_type": "raw",
   "metadata": {},
   "source": [
    "Many people find the more moderated hues of the default `\"deep\"` palette to be aesthetically pleasing, but they are also less distinct. As a result, they may be more difficult to discriminate in some contexts, which is something to keep in mind when making publication graphics. `This comparison <https://gist.github.com/mwaskom/b35f6ebc2d4b340b4f64a4e28e778486>`_ can be helpful for estimating how the the seaborn color palettes perform when simulating different forms of colorblindess."
   ]
  },
  {
   "cell_type": "raw",
   "metadata": {},
   "source": [
    "Using circular color systems\n",
    "~~~~~~~~~~~~~~~~~~~~~~~~~~~~\n",
    "\n",
    "When you have an arbitrary number of categories, the easiest approach is to draw evenly-spaced colors in a circular color space (one where the hue changes while keeping the brightness and saturation constant). This is what most seaborn functions default to when they need to use more colors than are currently set in the default color cycle.\n",
    "\n",
    "The most common way to do this uses the ``hls`` color space, which is a simple transformation of RGB values, which we saw before as a counterexample for how to plot a histogram:"
   ]
  },
  {
   "cell_type": "code",
   "execution_count": null,
   "metadata": {},
   "outputs": [],
   "source": [
    "sns.color_palette(\"hls\", 8)"
   ]
  },
  {
   "cell_type": "raw",
   "metadata": {
    "raw_mimetype": "text/restructuredtext"
   },
   "source": [
    "Because of the way the human visual system works, colors that have the same luminance and saturation in terms of their RGB values won't necessarily look equally intense To remedy this, seaborn provides an interface to the `husl <https://www.hsluv.org/>`_ system (since renamed to HSLuv), which achieves less intensity variation as you rotate around the color wheel:"
   ]
  },
  {
   "cell_type": "code",
   "execution_count": null,
   "metadata": {},
   "outputs": [],
   "source": [
    "sns.color_palette(\"husl\", 8)"
   ]
  },
  {
   "cell_type": "raw",
   "metadata": {},
   "source": [
    "When seaborn needs a categorical palette with more colors than are available in the current default, it will use this approach.\n",
    "\n",
    "Using categorical Color Brewer palettes\n",
    "~~~~~~~~~~~~~~~~~~~~~~~~~~~~~~~~~~~~~~~\n",
    "\n",
    "Another source of visually pleasing categorical palettes comes from the `Color Brewer <https://colorbrewer2.org/>`_ tool (which also has sequential and diverging palettes, as we'll see below)."
   ]
  },
  {
   "cell_type": "code",
   "execution_count": null,
   "metadata": {},
   "outputs": [],
   "source": [
    "sns.color_palette(\"Set2\")"
   ]
  },
  {
   "cell_type": "raw",
   "metadata": {},
   "source": [
    "Be aware that the qualitative Color Brewer palettes have different lengths, and the default behavior of :func:`color_palette` is to give you the full list:"
   ]
  },
  {
   "cell_type": "code",
   "execution_count": null,
   "metadata": {},
   "outputs": [],
   "source": [
    "sns.color_palette(\"Paired\")"
   ]
  },
  {
   "cell_type": "raw",
   "metadata": {},
   "source": [
    ".. _sequential_palettes:\n",
    "\n",
    "Sequential color palettes\n",
    "-------------------------\n",
    "\n",
    "The second major class of color palettes is called \"sequential\". This kind of mapping is appropriate when data range from relatively low or uninteresting values to relatively high or interesting values (or vice versa). As we saw above, the primary dimension of variation in a sequential palette is luminance. Some seaborn functions will default to a sequential palette when you are mapping numeric data. (For historical reasons, both categorical and numeric mappings are specified with the ``hue`` parameter in functions like :func:`relplot` or :func:`displot`, even though numeric mappings use color palettes with relatively little hue variation).\n",
    "\n",
    "Perceptually uniform palettes\n",
    "~~~~~~~~~~~~~~~~~~~~~~~~~~~~~\n",
    "\n",
    "Because they are intended to represent numeric values, the best sequential palettes will be *perceptually uniform*, meaning that the relative discriminability of two colors should be proportional to the difference between the corresponding data values. Seaborn includes four perceptually uniform colormaps: ``\"rocket\"``, ``\"mako\"``, ``\"flare\"``, and ``\"crest\"``. The first two have a very wide luminance range and are well suited for applications such as heatmaps:"
   ]
  },
  {
   "cell_type": "code",
   "execution_count": null,
   "metadata": {},
   "outputs": [],
   "source": [
    "sns.color_palette(\"rocket\", as_cmap=True)"
   ]
  },
  {
   "cell_type": "code",
   "execution_count": null,
   "metadata": {},
   "outputs": [],
   "source": [
    "sns.color_palette(\"mako\", as_cmap=True)"
   ]
  },
  {
   "cell_type": "raw",
   "metadata": {},
   "source": [
    "Because the extreme values of these colormaps approach white, they are not well-suited for coloring elements such as lines or points, because important values may not be discriminable against the background. The \"flare\" and \"crest\" colormaps are a better choice for such plots. They have a more restricted range of luminance variations, which they compensate for with a slightly more pronounced variation in hue:"
   ]
  },
  {
   "cell_type": "code",
   "execution_count": null,
   "metadata": {},
   "outputs": [],
   "source": [
    "sns.color_palette(\"flare\", as_cmap=True)"
   ]
  },
  {
   "cell_type": "code",
   "execution_count": null,
   "metadata": {},
   "outputs": [],
   "source": [
    "sns.color_palette(\"crest\", as_cmap=True)"
   ]
  },
  {
   "cell_type": "raw",
   "metadata": {},
   "source": [
    "It is also possible to use the perceptually uniform colormaps provided by matplotlib, such as ``\"magma\"`` and ``\"viridis\"``:"
   ]
  },
  {
   "cell_type": "code",
   "execution_count": null,
   "metadata": {},
   "outputs": [],
   "source": [
    "sns.color_palette(\"magma\", as_cmap=True)"
   ]
  },
  {
   "cell_type": "code",
   "execution_count": null,
   "metadata": {},
   "outputs": [],
   "source": [
    "sns.color_palette(\"viridis\", as_cmap=True)"
   ]
  },
  {
   "cell_type": "raw",
   "metadata": {},
   "source": [
    "As with the convention in matplotlib, every continuous colormap has a reversed version, which has the suffix ``\"_r\"``:"
   ]
  },
  {
   "cell_type": "code",
   "execution_count": null,
   "metadata": {},
   "outputs": [],
   "source": [
    "sns.color_palette(\"rocket_r\", as_cmap=True)"
   ]
  },
  {
   "cell_type": "raw",
   "metadata": {},
   "source": [
    "Discrete vs. continuous mapping\n",
    "~~~~~~~~~~~~~~~~~~~~~~~~~~~~~~~\n",
    "\n",
    "One thing to be aware of is that seaborn can generate discrete values from sequential colormaps and, when doing so, it will not use the most extreme values. Compare the discrete version of ``\"rocket\"`` against the continuous version shown above:"
   ]
  },
  {
   "cell_type": "code",
   "execution_count": null,
   "metadata": {},
   "outputs": [],
   "source": [
    "sns.color_palette(\"rocket\")"
   ]
  },
  {
   "cell_type": "raw",
   "metadata": {},
   "source": [
    "Interally, seaborn uses the discrete version for categorical data and the continuous version when in numeric mapping mode. Discrete sequential colormaps can be well-suited for visualizing categorical data with an intrinsic ordering, especially if there is some hue variation."
   ]
  },
  {
   "cell_type": "raw",
   "metadata": {
    "raw_mimetype": "text/restructuredtext"
   },
   "source": [
    ".. _cubehelix_palettes:\n",
    "\n",
    "Sequential \"cubehelix\" palettes\n",
    "~~~~~~~~~~~~~~~~~~~~~~~~~~~~~~~\n",
    "\n",
    "The perceptually uniform colormaps are difficult to programmatically generate because they are not based on the RGB color space. The `cubehelix <https://www.mrao.cam.ac.uk/~dag/CUBEHELIX/>`_ offers an RGB-based compromise: it generates sequential palettes with a linear increase or decrease in brightness and some continuous variation in hue. While not perfectly perceptually uniform, the resulting colormaps have many good properties. Importantly, many aspects of the design process are parameterizable.\n",
    "\n",
    "Matplotlib has the default cubehelix version built into it:"
   ]
  },
  {
   "cell_type": "code",
   "execution_count": null,
   "metadata": {},
   "outputs": [],
   "source": [
    "sns.color_palette(\"cubehelix\", as_cmap=True)"
   ]
  },
  {
   "cell_type": "raw",
   "metadata": {},
   "source": [
    "The default palette returned by the seaborn :func:`cubehelix_palette` function is a bit different from the matplotlib default in that it does not rotate as far around the hue wheel or cover as wide a range of intensities. It also reverses the order so that more important values are darker:"
   ]
  },
  {
   "cell_type": "code",
   "execution_count": null,
   "metadata": {},
   "outputs": [],
   "source": [
    "sns.cubehelix_palette(as_cmap=True)"
   ]
  },
  {
   "cell_type": "raw",
   "metadata": {},
   "source": [
    "Other arguments to :func:`cubehelix_palette` control how the palette looks. The two main things you'll change are the ``start`` (a value between 0 and 3) and ``rot``, or number of rotations (an arbitrary value, but usually between -1 and 1). The more you rotate, the more hue variation you will see:"
   ]
  },
  {
   "cell_type": "code",
   "execution_count": null,
   "metadata": {},
   "outputs": [],
   "source": [
    "sns.cubehelix_palette(start=.5, rot=-.75, as_cmap=True)"
   ]
  },
  {
   "cell_type": "raw",
   "metadata": {},
   "source": [
    "You can control how dark and light the endpoints are and even reverse the ramp:"
   ]
  },
  {
   "cell_type": "code",
   "execution_count": null,
   "metadata": {},
   "outputs": [],
   "source": [
    "sns.cubehelix_palette(start=2, rot=0, dark=0, light=.95, reverse=True, as_cmap=True)"
   ]
  },
  {
   "cell_type": "raw",
   "metadata": {},
   "source": [
    "The :func:`color_palette` accepts a string code, starting with ``\"ch:\"``, for generating an arbitrary cubehelix palette:"
   ]
  },
  {
   "cell_type": "code",
   "execution_count": null,
   "metadata": {},
   "outputs": [],
   "source": [
    "sns.color_palette(\"ch:start=.2,rot=-.3\", as_cmap=True)"
   ]
  },
  {
   "cell_type": "code",
   "execution_count": null,
   "metadata": {},
   "outputs": [],
   "source": [
    "sns.color_palette(\"ch:s=-.2,r=.6\", as_cmap=True)"
   ]
  },
  {
   "cell_type": "raw",
   "metadata": {},
   "source": [
    "Custom sequential palettes\n",
    "~~~~~~~~~~~~~~~~~~~~~~~~~~\n",
    "\n",
    "For a simpler interface to custom sequential palettes, you can use :func:`light_palette` or :func:`dark_palette`, which are both seeded with a single color and produce a palette that ramps either from light or dark desaturated values to that color:"
   ]
  },
  {
   "cell_type": "code",
   "execution_count": null,
   "metadata": {},
   "outputs": [],
   "source": [
    "sns.light_palette(\"seagreen\", as_cmap=True)"
   ]
  },
  {
   "cell_type": "code",
   "execution_count": null,
   "metadata": {},
   "outputs": [],
   "source": [
    "sns.dark_palette(\"#69d\", reverse=True, as_cmap=True)"
   ]
  },
  {
   "cell_type": "raw",
   "metadata": {},
   "source": [
    "As with cubehelix palettes, you can also specify light or dark palettes through :func:`color_palette` or anywhere ``palette`` is accepted:"
   ]
  },
  {
   "cell_type": "code",
   "execution_count": null,
   "metadata": {},
   "outputs": [],
   "source": [
    "sns.color_palette(\"light:b\", as_cmap=True)"
   ]
  },
  {
   "cell_type": "raw",
   "metadata": {},
   "source": [
    "Reverse the colormap by adding ``\"_r\"``:"
   ]
  },
  {
   "cell_type": "code",
   "execution_count": null,
   "metadata": {},
   "outputs": [],
   "source": [
    "sns.color_palette(\"dark:salmon_r\", as_cmap=True)"
   ]
  },
  {
   "cell_type": "raw",
   "metadata": {},
   "source": [
    "Sequential Color Brewer palettes\n",
    "~~~~~~~~~~~~~~~~~~~~~~~~~~~~~~~~\n",
    "\n",
    "The Color Brewer library also has some good options for sequential palettes. They include palettes with one primary hue:"
   ]
  },
  {
   "cell_type": "code",
   "execution_count": null,
   "metadata": {},
   "outputs": [],
   "source": [
    "sns.color_palette(\"Blues\", as_cmap=True)"
   ]
  },
  {
   "cell_type": "raw",
   "metadata": {},
   "source": [
    "Along with multi-hue options:"
   ]
  },
  {
   "cell_type": "code",
   "execution_count": null,
   "metadata": {},
   "outputs": [],
   "source": [
    "sns.color_palette(\"YlOrBr\", as_cmap=True)"
   ]
  },
  {
   "cell_type": "raw",
   "metadata": {},
   "source": [
    ".. _diverging_palettes:\n",
    "\n",
    "Diverging color palettes\n",
    "------------------------\n",
    "\n",
    "The third class of color palettes is called \"diverging\". These are used for data where both large low and high values are interesting and span a midpoint value (often 0) that should be demphasized. The rules for choosing good diverging palettes are similar to good sequential palettes, except now there should be two dominant hues in the colormap, one at (or near) each pole. It's also important that the starting values are of similar brightness and saturation.\n",
    "\n",
    "Perceptually uniform divering palettes\n",
    "~~~~~~~~~~~~~~~~~~~~~~~~~~~~~~~~~~~~~~\n",
    "\n",
    "Seaborn includes two perceptually uniform diverging palettes: ``\"vlag\"`` and ``\"icefire\"``. They both use blue and red at their poles, which many intuitively processes as \"cold\" and \"hot\":"
   ]
  },
  {
   "cell_type": "code",
   "execution_count": null,
   "metadata": {},
   "outputs": [],
   "source": [
    "sns.color_palette(\"vlag\", as_cmap=True)"
   ]
  },
  {
   "cell_type": "code",
   "execution_count": null,
   "metadata": {},
   "outputs": [],
   "source": [
    "sns.color_palette(\"icefire\", as_cmap=True)"
   ]
  },
  {
   "cell_type": "raw",
   "metadata": {},
   "source": [
    "Custom diverging palettes\n",
    "~~~~~~~~~~~~~~~~~~~~~~~~~\n",
    "\n",
    "You can also use the seaborn function :func:`diverging_palette` to create a custom colormap for diverging data. This function makes diverging palettes using the ``husl`` color system. You pass it two hues (in degrees) and, optionally, the lightness and saturation values for the extremes. Using ``husl`` means that the extreme values, and the resulting ramps to the midpoint, while not perfectly perceptually uniform, will be well-balanced:"
   ]
  },
  {
   "cell_type": "code",
   "execution_count": null,
   "metadata": {},
   "outputs": [],
   "source": [
    "sns.diverging_palette(220, 20, as_cmap=True)"
   ]
  },
  {
   "cell_type": "raw",
   "metadata": {},
   "source": [
    "This is convenient when you want to stray from the boring confines of cold-hot approaches:"
   ]
  },
  {
   "cell_type": "code",
   "execution_count": null,
   "metadata": {},
   "outputs": [],
   "source": [
    "sns.diverging_palette(145, 300, s=60, as_cmap=True)"
   ]
  },
  {
   "cell_type": "raw",
   "metadata": {},
   "source": [
    "It's also possible to make a palette where the midpoint is dark rather than light:"
   ]
  },
  {
   "cell_type": "code",
   "execution_count": null,
   "metadata": {},
   "outputs": [],
   "source": [
    "sns.diverging_palette(250, 30, l=65, center=\"dark\", as_cmap=True)"
   ]
  },
  {
   "cell_type": "raw",
   "metadata": {},
   "source": [
    "It's important to emphasize here that using red and green, while intuitive, `should be avoided <https://en.wikipedia.org/wiki/Color_blindness>`_.\n",
    "\n",
    "Other diverging palettes\n",
    "~~~~~~~~~~~~~~~~~~~~~~~~\n",
    "\n",
    "There are a few other good diverging palettes built into matplotlib, including Color Brewer palettes:"
   ]
  },
  {
   "cell_type": "code",
   "execution_count": null,
   "metadata": {},
   "outputs": [],
   "source": [
    "sns.color_palette(\"Spectral\", as_cmap=True)"
   ]
  },
  {
   "cell_type": "raw",
   "metadata": {},
   "source": [
    "And the ``coolwarm`` palette, which has less contrast between the middle values and the extremes:"
   ]
  },
  {
   "cell_type": "code",
   "execution_count": null,
   "metadata": {},
   "outputs": [],
   "source": [
    "sns.color_palette(\"coolwarm\", as_cmap=True)"
   ]
  },
  {
   "cell_type": "raw",
   "metadata": {},
   "source": [
    "As you can see, there are many choices for how to use color in your visualizations. Seaborn tries both to use good defaults and to offer a lot of flexibility.\n",
    "\n",
    "There are a number of great resources to learn about good techniques for using color in visualizations, such as this `series of blog posts <https://earthobservatory.nasa.gov/blogs/elegantfigures/2013/08/05/subtleties-of-color-part-1-of-6/>`_ from the NASA Earth Observatory. The matplotlib docs also have a `nice tutorial <https://matplotlib.org/users/colormaps.html>`_ that illustrates some of the perceptual properties of their colormaps."
   ]
  },
  {
   "cell_type": "raw",
   "metadata": {},
   "source": [
    ".. raw:: html\n",
    "\n",
    "   </div>"
   ]
  },
  {
   "cell_type": "code",
   "execution_count": null,
   "metadata": {},
   "outputs": [],
   "source": []
  }
 ],
 "metadata": {
  "celltoolbar": "Tags",
  "kernelspec": {
   "display_name": "seaborn-py38-latest",
   "language": "python",
   "name": "seaborn-py38-latest"
  },
  "language_info": {
   "codemirror_mode": {
    "name": "ipython",
    "version": 3
   },
   "file_extension": ".py",
   "mimetype": "text/x-python",
   "name": "python",
   "nbconvert_exporter": "python",
   "pygments_lexer": "ipython3",
   "version": "3.8.5"
  }
 },
 "nbformat": 4,
 "nbformat_minor": 4
}
